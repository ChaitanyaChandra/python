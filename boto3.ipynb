{
 "cells": [
  {
   "cell_type": "code",
   "execution_count": 1,
   "metadata": {},
   "outputs": [
    {
     "name": "stdout",
     "output_type": "stream",
     "text": [
      "the instance id :i-007f6eaece0a07e61 was launched \n"
     ]
    }
   ],
   "source": [
    "# running ec2 instances\n",
    "import boto3\n",
    "c = boto3.client('ec2')\n",
    "response = c.run_instances(ImageId = 'ami-05695932c5299858a',\n",
    "                InstanceType = 't2.micro',\n",
    "                MaxCount = 1,\n",
    "                MinCount = 1,\n",
    "                          )\n",
    "for i in response['Instances']:\n",
    "    print(f\"the instance id :{i['InstanceId']} was launched \")\n",
    "\n",
    "# print(response)\n",
    "# {\n",
    "#     'Groups': [],\n",
    "#     'Instances': [\n",
    "#         {\n",
    "#             'AmiLaunchIndex': 0,\n",
    "#          'ImageId': 'ami-05695932c5299858a',\n",
    "#          'InstanceId': 'i-07bb6860274a099a5',\n",
    "#          'InstanceType': 't2.micro',\n",
    "#          'LaunchTime': datetime.datetime(2020, 2, 14, 5, 18, 24, tzinfo=tzutc()),\n",
    "#          'Monitoring': {'State': 'disabled'},\n",
    "#          'Placement': {'AvailabilityZone': 'ap-south-1a',\n",
    "#                        'GroupName': '',\n",
    "#                        'Tenancy': 'default'},\n",
    "#          'PrivateDnsName': 'ip-172-31-42-218.ap-south-1.compute.internal',\n",
    "#          'PrivateIpAddress': '172.31.42.218',\n",
    "#          'ProductCodes': [], 'PublicDnsName': '',\n",
    "#          'State': {'Code': 0, 'Name': 'pending'},\n",
    "#          'StateTransitionReason': '',\n",
    "#          'SubnetId': 'subnet-70675018',\n",
    "#          'VpcId': 'vpc-b37c72db',\n",
    "#          'Architecture': 'x86_64',\n",
    "#          'BlockDeviceMappings': [],\n",
    "#          'ClientToken': '',\n",
    "#          'EbsOptimized': False,\n",
    "#          'Hypervisor': 'xen',\n",
    "#          'NetworkInterfaces':\n",
    "#              [\n",
    "#                  {\n",
    "#                      'Attachment': {\n",
    "#                          'AttachTime': datetime.datetime(2020, 2, 14, 5, 18, 24, tzinfo=tzutc()),\n",
    "#                          'AttachmentId': 'eni-attach-0a0b8d8b510d0d832',\n",
    "#                          'DeleteOnTermination': True, 'DeviceIndex': 0, 'Status': 'attaching'},\n",
    "#                      'Description': '', 'Groups': [{'GroupName': 'default', 'GroupId': 'sg-21af0141'}],\n",
    "#                      'Ipv6Addresses': [], 'MacAddress': '02:cf:00:d6:0f:ce', 'NetworkInterfaceId':\n",
    "#                      'eni-02fddb2ce2d22b2ec',\n",
    "#                      'OwnerId': '210494022432',\n",
    "#                      'PrivateDnsName': 'ip-172-31-42-218.ap-south-1.compute.internal',\n",
    "#                      'PrivateIpAddress': '172.31.42.218',\n",
    "#                      'PrivateIpAddresses': [\n",
    "#                          {'Primary': True, 'PrivateDnsName': 'ip-172-31-42-218.ap-south-1.compute.internal',\n",
    "#                           'PrivateIpAddress': '172.31.42.218'}\n",
    "#                      ],\n",
    "#                      'SourceDestCheck': True, 'Status': 'in-use',\n",
    "#                      'SubnetId': 'subnet-70675018',\n",
    "#                      'VpcId': 'vpc-b37c72db',\n",
    "#                      'InterfaceType': 'interface'}\n",
    "#              ], 'RootDeviceName': '/dev/xvda', 'RootDeviceType': 'ebs', 'SecurityGroups':\n",
    "#              [\n",
    "#                  {'GroupName': 'default', 'GroupId': 'sg-21af0141'}\n",
    "#              ], 'SourceDestCheck': True,\n",
    "#          'StateReason': {'Code': 'pending', 'Message': 'pending'},\n",
    "#          'VirtualizationType': 'hvm',\n",
    "#          'CpuOptions': {'CoreCount': 1, 'ThreadsPerCore': 1},\n",
    "#          'CapacityReservationSpecification': {'CapacityReservationPreference': 'open'},\n",
    "#          'MetadataOptions': {'State': 'pending', 'HttpTokens': 'optional', 'HttpPutResponseHopLimit': 1, 'HttpEndpoint': 'enabled'}}],\n",
    "#     'OwnerId': '210494022432',\n",
    "#     'ReservationId': 'r-0dea320ec53b8d5fe',\n",
    "#     'ResponseMetadata':\n",
    "#         {\n",
    "#             'RequestId': '5bfe12e1-3fe3-470e-9e7f-0d86b4ed3332',\n",
    "#          'HTTPStatusCode': 200,\n",
    "#          'HTTPHeaders': {'content-type': 'text/xml;charset=UTF-8',\n",
    "#                          'content-length': '4709', 'vary': 'accept-encoding',\n",
    "#                          'date': 'Fri, 14 Feb 2020 05:18:24 GMT', 'server': 'AmazonEC2'},\n",
    "#          'RetryAttempts': 0\n",
    "#          }\n",
    "# }"
   ]
  },
  {
   "cell_type": "code",
   "execution_count": 2,
   "metadata": {},
   "outputs": [
    {
     "name": "stdout",
     "output_type": "stream",
     "text": [
      "the instance with id:i-04605430ce662ec47 with previous state{'Code': 16, 'Name': 'running'} and current state:{'Code': 16, 'Name': 'running'}\n",
      "the instance with id:i-03fb8c17f038b0946 with previous state{'Code': 16, 'Name': 'running'} and current state:{'Code': 16, 'Name': 'running'}\n"
     ]
    }
   ],
   "source": [
    "# starting ec2 instances\n",
    "import boto3\n",
    "c = boto3.client('ec2')\n",
    "response = c.start_instances(InstanceIds = # must be start instances\n",
    "                 ['i-03fb8c17f038b0946',\n",
    "                  'i-04605430ce662ec47'\n",
    "                  ]\n",
    "                             )\n",
    "\n",
    "for i in response['StartingInstances']:\n",
    "    print(f\"the instance with id:{i['InstanceId']} with previous state{i['PreviousState']} and current state:{i['CurrentState']}\")\n",
    "\n",
    "\n",
    "\n",
    "# print(response)\n",
    "# {\n",
    "#     'StartingInstances':\n",
    "#      [\n",
    "#          {\n",
    "#              'CurrentState': {'Code': 16, 'Name': 'running'},\n",
    "#              'InstanceId': 'i-03fb8c17f038b0946',\n",
    "#              'PreviousState': {'Code': 16, 'Name': 'running'}\n",
    "#          },\n",
    "#          {\n",
    "#              'CurrentState': {'Code': 16, 'Name': 'running'},\n",
    "#              'InstanceId': 'i-04605430ce662ec47', 'PreviousState':\n",
    "#               {'Code': 16, 'Name': 'running'}\n",
    "#          }\n",
    "#      ],\n",
    "#     'ResponseMetadata': {'RequestId': '92d4cf5a-5389-4d78-97e8-3f33436e86c6',\n",
    "#                          'HTTPStatusCode': 200,\n",
    "#                          'HTTPHeaders': {'content-type': 'text/xml;charset=UTF-8',\n",
    "#                                                                 'content-length': '918',\n",
    "#                                                                 'date': 'Fri, 14 Feb 2020 03:39:48 GMT',\n",
    "#                                                                 'server': 'AmazonEC2'},\n",
    "#                          'RetryAttempts': 0\n",
    "#                          }\n",
    "# }"
   ]
  },
  {
   "cell_type": "code",
   "execution_count": 3,
   "metadata": {},
   "outputs": [
    {
     "name": "stdout",
     "output_type": "stream",
     "text": [
      "the instance id\t:i-04605430ce662ec47 with current state{'Code': 64, 'Name': 'stopping'} and previous state {'Code': 16, 'Name': 'running'}\n",
      "the instance id\t:i-03fb8c17f038b0946 with current state{'Code': 64, 'Name': 'stopping'} and previous state {'Code': 16, 'Name': 'running'}\n"
     ]
    }
   ],
   "source": [
    "# stopping ec2 instances\n",
    "import boto3\n",
    "c = boto3.client('ec2')\n",
    "response = c.stop_instances(InstanceIds =\n",
    "                            ['i-03fb8c17f038b0946',\n",
    "                             'i-04605430ce662ec47']\n",
    "                            )\n",
    "for i in response['StoppingInstances']:\n",
    "    print(f\"the instance id\\t:{i['InstanceId']} with current state{i['CurrentState']} and previous state {i['PreviousState']}\")\n",
    "\n",
    "\n",
    "# print(response)\n",
    "# {\n",
    "#     'StoppingInstances':\n",
    "#         [\n",
    "#             {\n",
    "#                 'CurrentState': {'Code': 64, 'Name': 'stopping'},\n",
    "#                 'InstanceId': 'i-04605430ce662ec47',\n",
    "#                 'PreviousState': {'Code': 16, 'Name': 'running'}\n",
    "#             },\n",
    "#             {'CurrentState': {'Code': 64, 'Name': 'stopping'},\n",
    "#              'InstanceId': 'i-03fb8c17f038b0946',\n",
    "#              'PreviousState': {'Code': 16, 'Name': 'running'}\n",
    "#              }\n",
    "#         ],\n",
    "#     'ResponseMetadata': {'RequestId': 'c2b4a512-db56-4fed-b520-dfcec230e318',\n",
    "#                          'HTTPStatusCode': 200, 'HTTPHeaders': {'content-type': 'text/xml;charset=UTF-8',\n",
    "#                                                                 'content-length': '918',\n",
    "#                                                                 'date': 'Fri, 14 Feb 2020 04:31:31 GMT',\n",
    "#                                                                 'server': 'AmazonEC2'},\n",
    "#                          'RetryAttempts': 0}\n",
    "# }\n"
   ]
  },
  {
   "cell_type": "code",
   "execution_count": 4,
   "metadata": {
    "scrolled": true
   },
   "outputs": [
    {
     "name": "stdout",
     "output_type": "stream",
     "text": [
      "the instance with id:i-04605430ce662ec47 with previous state{'Code': 48, 'Name': 'terminated'} and current state:{'Code': 48, 'Name': 'terminated'}\n",
      "the instance with id:i-03fb8c17f038b0946 with previous state{'Code': 48, 'Name': 'terminated'} and current state:{'Code': 48, 'Name': 'terminated'}\n"
     ]
    }
   ],
   "source": [
    "# terminating ec2 instances\n",
    "from boto3 import client\n",
    "c = client('ec2')\n",
    "response = c.terminate_instances(InstanceIds =\n",
    "                     ['i-03fb8c17f038b0946',\n",
    "                      'i-04605430ce662ec47']\n",
    "                                 )\n",
    "for i in response['TerminatingInstances']:\n",
    "    print(f\"the instance with id:{i['InstanceId']} with previous state{i['PreviousState']} and current state:{i['CurrentState']}\")\n",
    "\n",
    "# print(response)\n",
    "# {\n",
    "#     'TerminatingInstances':\n",
    "#         [\n",
    "#             {\n",
    "#                 'CurrentState': {'Code': 48, 'Name': 'terminated'},\n",
    "#                 'InstanceId': 'i-04605430ce662ec47',\n",
    "#                 'PreviousState': {'Code': 48, 'Name': 'terminated'}\n",
    "#             },\n",
    "#             {'CurrentState': {'Code': 48, 'Name': 'terminated'},\n",
    "#              'InstanceId': 'i-03fb8c17f038b0946',\n",
    "#              'PreviousState': {'Code': 48, 'Name': 'terminated'}\n",
    "#              }\n",
    "#         ], 'ResponseMetadata': {'RequestId': '21594a93-ac27-4aa0-9adf-0e2214a1cc6b',\n",
    "#                                 'HTTPStatusCode': 200,\n",
    "#                                 'HTTPHeaders': {'content-type': 'text/xml;charset=UTF-8',\n",
    "#                                                                        'transfer-encoding': 'chunked',\n",
    "#                                                                        'vary': 'accept-encoding',\n",
    "#                                                                        'date': 'Fri, 14 Feb 2020 04:50:35 GMT',\n",
    "#                                                                        'server': 'AmazonEC2'\n",
    "#                                                 },\n",
    "#                                 'RetryAttempts': 0\n",
    "#                                 }\n",
    "# }"
   ]
  },
  {
   "cell_type": "code",
   "execution_count": 5,
   "metadata": {},
   "outputs": [
    {
     "name": "stdout",
     "output_type": "stream",
     "text": [
      "the instance of type:t2.micro ,id:i-048c9a5f02d6c83de and launch time: 2020-02-14 05:28:21+00:00\n",
      "the instance of type:t2.micro ,id:i-07d6f7e91f45e6f3d and launch time: 2020-02-14 05:27:42+00:00\n",
      "the instance of type:t2.micro ,id:i-07bb6860274a099a5 and launch time: 2020-02-14 05:18:24+00:00\n"
     ]
    }
   ],
   "source": [
    "# describing ec2 instances\n",
    "import boto3\n",
    "c = boto3.client('ec2')\n",
    "response = c.describe_instances() # make it empty in order to get all the instances\n",
    "\n",
    "for i in response['Reservations']:\n",
    "    for j in i['Instances']:\n",
    "        print(f\"the instance of type:{j['InstanceType']} ,id:{j['InstanceId']} and launch time: {j['LaunchTime']}\")\n",
    "# print(response)\n",
    "# {\n",
    "#     'Reservations': [\n",
    "#         {\n",
    "#             'Groups': [],\n",
    "#             'Instances':\n",
    "#                 [\n",
    "#                     {'AmiLaunchIndex': 0,\n",
    "#                      'ImageId': 'ami-05695932c5299858a',\n",
    "#                      'InstanceId': 'i-048c9a5f02d6c83de',\n",
    "#                      'InstanceType': 't2.micro',\n",
    "#                      'LaunchTime': datetime.datetime(2020, 2, 14, 5, 28, 21, tzinfo=tzutc()),\n",
    "#                      'Monitoring': {'State': 'disabled'},\n",
    "#                      'Placement': {'AvailabilityZone': 'ap-south-1a',\n",
    "#                                    'GroupName': '',\n",
    "#                                    'Tenancy': 'default'},\n",
    "#                      'PrivateDnsName': 'ip-172-31-40-148.ap-south-1.compute.internal',\n",
    "#                      'PrivateIpAddress': '172.31.40.148', 'ProductCodes': [],\n",
    "#                      'PublicDnsName': 'ec2-15-206-124-148.ap-south-1.compute.amazonaws.com',\n",
    "#                      'PublicIpAddress': '15.206.124.148',\n",
    "#                      'State': {'Code': 16, 'Name': 'running'},\n",
    "#                      'StateTransitionReason': '',\n",
    "#                      'SubnetId': 'subnet-70675018',\n",
    "#                      'VpcId': 'vpc-b37c72db',\n",
    "#                      'Architecture': 'x86_64',\n",
    "#                      'BlockDeviceMappings': [\n",
    "#                          {\n",
    "#                              'DeviceName': '/dev/xvda', 'Ebs':\n",
    "#                              {'AttachTime': datetime.datetime(2020, 2, 14, 5, 28, 22, tzinfo=tzutc()),\n",
    "#                               'DeleteOnTermination': True, 'Status': 'attached',\n",
    "#                               'VolumeId': 'vol-01209dfe89068d3a7'}}], 'ClientToken': '',\n",
    "#                      'EbsOptimized': False, 'EnaSupport': True, 'Hypervisor': 'xen',\n",
    "#                      'NetworkInterfaces': [\n",
    "#                          {'Association': {'IpOwnerId': 'amazon',\n",
    "#                                           'PublicDnsName': 'ec2-15-206-124-148.ap-south-1.compute.amazonaws.com',\n",
    "#                                           'PublicIp': '15.206.124.148'},\n",
    "#                           'Attachment': {'AttachTime': datetime.datetime(2020, 2, 14, 5, 28, 21, tzinfo=tzutc()),\n",
    "#                                          'AttachmentId': 'eni-attach-037a2788f774ced98',\n",
    "#                                          'DeleteOnTermination': True,\n",
    "#                                          'DeviceIndex': 0,\n",
    "#                                         'Status': 'attached'\n",
    "#                                          },\n",
    "#                           'Description': '',\n",
    "#                           'Groups': [\n",
    "#                               {'GroupName': 'default', 'GroupId': 'sg-21af0141'}\n",
    "#                           ], 'Ipv6Addresses': [],\n",
    "#                           'MacAddress': '02:fb:17:4d:95:5e'\n",
    "#                              , 'NetworkInterfaceId': 'eni-021089047b770c8c8',\n",
    "#                           'OwnerId': '210494022432'"
   ]
  },
  {
   "cell_type": "code",
   "execution_count": 6,
   "metadata": {},
   "outputs": [
    {
     "name": "stdout",
     "output_type": "stream",
     "text": [
      "the key pair name is :chaitanya and \n",
      "key pair id is :key-0a7456a5bc7c42704 and \n",
      "key fingerprint:51:b1:0c:94:ab:e5:ba:38:07:a9:c3:08:52:01:c0:2e:df:5a:7b:86 \n"
     ]
    }
   ],
   "source": [
    "# describe key pair\n",
    "import boto3\n",
    "c =boto3.client('ec2')\n",
    "response = c.describe_key_pairs()\n",
    "\n",
    "for i in response['KeyPairs']:\n",
    "    print(f\"the key pair name is :{i['KeyName']} and \\nkey pair id is :{i['KeyPairId']} and \\nkey fingerprint:{i['KeyFingerprint']} \")\n",
    "# print(response)\n",
    "# {\n",
    "#     'KeyPairs': [\n",
    "#         {'KeyPairId': 'key-0a7456a5bc7c42704',\n",
    "#          'KeyFingerprint': '51:b1:0c:94:ab:e5:ba:38:07:a9:c3:08:52:01:c0:2e:df:5a:7b:86',\n",
    "#          'KeyName': 'chaitanya', 'Tags': []}]\n",
    "# }"
   ]
  },
  {
   "cell_type": "code",
   "execution_count": 7,
   "metadata": {},
   "outputs": [
    {
     "name": "stdout",
     "output_type": "stream",
     "text": [
      "this is a instance id:i-048c9a5f02d6c83de with status:{'Details': [{'Name': 'reachability', 'Status': 'passed'}], 'Status': 'ok'} \n",
      "this is a instance id:i-07bb6860274a099a5 with status:{'Details': [{'Name': 'reachability', 'Status': 'passed'}], 'Status': 'ok'} \n",
      "this is a instance id:i-07d6f7e91f45e6f3d with status:{'Details': [{'Name': 'reachability', 'Status': 'passed'}], 'Status': 'ok'} \n"
     ]
    }
   ],
   "source": [
    "# describing ec2  instance status \n",
    "import boto3\n",
    "c =boto3.client('ec2')\n",
    "response = c.describe_instance_status()\n",
    "\n",
    "for i in response['InstanceStatuses']:\n",
    "    print(f\"this is a instance id:{i['InstanceId']} with status:{i['InstanceStatus']} \")\n",
    "\n",
    "\n",
    "\n",
    "# print(response)\n",
    "# {\n",
    "#     'InstanceStatuses': [\n",
    "#         {'AvailabilityZone': 'ap-south-1a',\n",
    "#          'InstanceId': 'i-048c9a5f02d6c83de',\n",
    "#          'InstanceState': {'Code': 16, 'Name': 'running'},\n",
    "#          'InstanceStatus': {'Details': [{'Name': 'reachability', 'Status': 'passed'}],\n",
    "#                             'Status': 'ok'},\n",
    "#          'SystemStatus': {'Details': [{'Name': 'reachability',\n",
    "#                                        'Status': 'passed'}],\n",
    "#                           'Status': 'ok'}\n",
    "#          }\n",
    "# }"
   ]
  },
  {
   "cell_type": "code",
   "execution_count": 8,
   "metadata": {},
   "outputs": [
    {
     "name": "stdout",
     "output_type": "stream",
     "text": [
      "the avalible instances are :['i-048c9a5f02d6c83de', 'i-07d6f7e91f45e6f3d', 'i-07bb6860274a099a5']\n",
      "\n",
      "terminating the instance with id:i-07bb6860274a099a5,current state:{'Code': 48, 'Name': 'terminated'} and previous state:{'Code': 48, 'Name': 'terminated'}\n",
      "\n",
      "terminating the instance with id:i-048c9a5f02d6c83de,current state:{'Code': 48, 'Name': 'terminated'} and previous state:{'Code': 48, 'Name': 'terminated'}\n",
      "\n",
      "terminating the instance with id:i-07d6f7e91f45e6f3d,current state:{'Code': 48, 'Name': 'terminated'} and previous state:{'Code': 48, 'Name': 'terminated'}\n"
     ]
    }
   ],
   "source": [
    "# listing the instances and terminating ,starting ,stoping\n",
    "from boto3 import client\n",
    "c = client('ec2')\n",
    "avliableinstance = c.describe_instances()\n",
    "l = [] # take empty list in order to append\n",
    "for i in avliableinstance['Reservations']:\n",
    "    for j in i['Instances']:\n",
    "        k = j['InstanceId']\n",
    "        l.append(k)\n",
    "print(f'the avalible instances are :{l}')\n",
    "\n",
    "terminate = c.terminate_instances(InstanceIds=l) # start_instances,stop_instances\n",
    "for a in terminate['TerminatingInstances']: # StartingInstances , StoppingInstances\n",
    "    print(f\"\\nterminating the instance with id:{a['InstanceId']},current state:{a['CurrentState']} and previous state:{a['PreviousState']}\")"
   ]
  },
  {
   "cell_type": "code",
   "execution_count": 9,
   "metadata": {},
   "outputs": [
    {
     "name": "stdout",
     "output_type": "stream",
     "text": [
      "\n",
      "the instances ate running with id:i-088df74b370ae1eef\n",
      "\n",
      "the instances ate running with id:i-007f6eaece0a07e61\n",
      "\n",
      "the instances have tags with id:i-088df74b370ae1eef\n"
     ]
    }
   ],
   "source": [
    "# filters in Describing ec2 instances\n",
    "import boto3\n",
    "c = boto3.client('ec2')\n",
    "running = c.describe_instances(Filters =\n",
    "                               [\n",
    "                                   {\n",
    "                                       'Name':'instance-state-name',\n",
    "                                        'Values':['running']\n",
    "\n",
    "                                   }\n",
    "                               ]\n",
    ")\n",
    "for i in running['Reservations']:\n",
    "    for j in i['Instances']:\n",
    "        print(f\"\\nthe instances ate running with id:{j['InstanceId']}\")\n",
    "#\n",
    "# terminated = c.describe_instances(Filters = # filters is a list\n",
    "#                                   [\n",
    "#                                       {\n",
    "#                                           'Name':'instance-state-name',\n",
    "#                                           'Values': ['terminated'] # values is a list\n",
    "#                                        }\n",
    "#                                   ]\n",
    "# )\n",
    "# for a in terminated['Reservations']:\n",
    "#     for k in a['Instances']:\n",
    "#         print(f\"\\nthe instances are terminated with id:{k['InstanceId']}\")\n",
    "\n",
    "tags = c.describe_instances(Filters =\n",
    "                                  [\n",
    "                                      {\n",
    "                                          'Name':'tag:Chaitu',\n",
    "                                          'Values': ['Chowdary'] # values is a list\n",
    "                                       }\n",
    "                                  ]\n",
    ")\n",
    "for b in tags['Reservations']:\n",
    "    for l in b['Instances']:\n",
    "        print(f\"\\nthe instances have tags with id:{l['InstanceId']}\")"
   ]
  },
  {
   "cell_type": "code",
   "execution_count": 10,
   "metadata": {},
   "outputs": [],
   "source": []
  }
 ],
 "metadata": {
  "kernelspec": {
   "display_name": "Python 3",
   "language": "python",
   "name": "python3"
  },
  "language_info": {
   "codemirror_mode": {
    "name": "ipython",
    "version": 3
   },
   "file_extension": ".py",
   "mimetype": "text/x-python",
   "name": "python",
   "nbconvert_exporter": "python",
   "pygments_lexer": "ipython3",
   "version": "3.7.4"
  }
 },
 "nbformat": 4,
 "nbformat_minor": 4
}
