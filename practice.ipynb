{
 "cells": [
  {
   "cell_type": "code",
   "execution_count": 1,
   "metadata": {},
   "outputs": [
    {
     "name": "stdout",
     "output_type": "stream",
     "text": [
      "1 is odd\n",
      "2 is even\n",
      "3 is odd\n",
      "4 is is not a good sign\n",
      "5 is odd\n",
      "6 is even\n",
      "7 is odd\n",
      "8 is even\n",
      "9 is odd\n",
      "10 is even\n",
      "11 is odd\n",
      "12 is even\n",
      "13 is is not a good sign\n",
      "14 is even\n",
      "15 is odd\n",
      "16 is even\n",
      "17 is odd\n",
      "18 is even\n",
      "19 is odd\n",
      "20 is even\n"
     ]
    }
   ],
   "source": [
    "#range shows odd numbers and even numbers with conditions \n",
    "a = range(1,21)\n",
    "for num in a :\n",
    "    if num == 4 or num == 13:\n",
    "        stage = \"is not a good sign\"\n",
    "        #print(f\"{num} is not a good sign\")\n",
    "    elif num % 2 == 0:\n",
    "        stage = \"even\"\n",
    "        #print(f\"{num} is even \")\n",
    "    else :\n",
    "        stage = \"odd\"\n",
    "        #print(f\"{num} is odd \")\n",
    "    print(f\"{num} is {stage}\")"
   ]
  },
  {
   "cell_type": "code",
   "execution_count": 2,
   "metadata": {},
   "outputs": [
    {
     "name": "stdout",
     "output_type": "stream",
     "text": [
      "welcome\n",
      "Please enter the kilometers: \n"
     ]
    },
    {
     "name": "stdin",
     "output_type": "stream",
     "text": [
      " 10\n"
     ]
    },
    {
     "name": "stdout",
     "output_type": "stream",
     "text": [
      "Go a head...\n",
      "In 10 kilometers the miles  is :6.21373 \n"
     ]
    }
   ],
   "source": [
    "# Km to mile command \n",
    "print(\"welcome\\nPlease enter the kilometers: \")\n",
    "kms = input()\n",
    "miles = float(kms)/1.60934\n",
    "roundup = round(miles ,5)\n",
    "print(f\"Go a head...\\nIn {kms} kilometers the miles  is :{roundup} \")\n",
    "# In this cmd we are taken the data  from the order mile to km "
   ]
  },
  {
   "cell_type": "code",
   "execution_count": 3,
   "metadata": {},
   "outputs": [
    {
     "name": "stdin",
     "output_type": "stream",
     "text": [
      "enter your age please :  16\n"
     ]
    },
    {
     "name": "stdout",
     "output_type": "stream",
     "text": [
      "you have 16 years old and you are teen ager.\n",
      "you dont have right to vote!\n"
     ]
    }
   ],
   "source": [
    "# voting rights based on age\n",
    "age = input(\"enter your age please : \")\n",
    "if age:\n",
    "    num = int(age)\n",
    "    if num <=11 and num >= 1:\n",
    "        print(f\"you have {age} years old.\\nyou dont have right to vote!\" )\n",
    "    elif num >= 12 and num <=17:\n",
    "        print(f\"you have {age} years old and you are teen ager.\\nyou dont have right to vote!\")\n",
    "    elif num >=18 and num <=20:\n",
    "        print(f\"you are elgible to vote in age {age}. read the list carefully and vote\")\n",
    "    elif num >=21 and num <=50:\n",
    "        print(f\"you have {age} years old . you  are elgible to vote.\")\n",
    "    else:\n",
    "        print(f\"you are senior citigen and your age about {age}\")\n",
    "else :\n",
    "    print(\"please enter your age\")\n",
    "#not solved by showing in list "
   ]
  },
  {
   "cell_type": "code",
   "execution_count": 4,
   "metadata": {},
   "outputs": [
    {
     "name": "stdin",
     "output_type": "stream",
     "text": [
      "what do you want to call:\n",
      "\n",
      " chaitu\n",
      "how many times you  want to call:\n",
      "\n",
      " 5\n"
     ]
    },
    {
     "name": "stdout",
     "output_type": "stream",
     "text": [
      "chaitu chaitu chaitu chaitu chaitu chaitu chaitu chaitu chaitu chaitu \n",
      "chaitu chaitu chaitu chaitu chaitu chaitu chaitu chaitu chaitu chaitu \n",
      "chaitu chaitu chaitu chaitu chaitu chaitu chaitu chaitu chaitu chaitu \n",
      "chaitu chaitu chaitu chaitu chaitu chaitu chaitu chaitu chaitu chaitu \n",
      "chaitu chaitu chaitu chaitu chaitu chaitu chaitu chaitu chaitu chaitu \n"
     ]
    }
   ],
   "source": [
    "# by using input print the output using for-loop with range\n",
    "a = input(\"what do you want to call:\\n\\n\")\n",
    "b = input(\"how many times you  want to call:\\n\\n\")\n",
    "if a and b:\n",
    "    b = int(b)\n",
    "    c = 10\n",
    "    for x in range(b):\n",
    "        print(f\"{a} \" * c )\n",
    "else:\n",
    "    print(\"you didn't type anything..\\nplease type correctly\")\n",
    "# using if for enpty strings"
   ]
  },
  {
   "cell_type": "code",
   "execution_count": 5,
   "metadata": {},
   "outputs": [
    {
     "name": "stdout",
     "output_type": "stream",
     "text": [
      "welcome\n",
      "\n"
     ]
    },
    {
     "name": "stdin",
     "output_type": "stream",
     "text": [
      "what is your name:\n",
      " chandra\n"
     ]
    },
    {
     "name": "stdout",
     "output_type": "stream",
     "text": [
      "chandra chandra chandra \n",
      "chandra chandra chandra \n",
      "chandra chandra chandra \n",
      "chandra chandra chandra \n",
      "chandra chandra chandra \n",
      "\n",
      "ok! Computer chooses 3 times in horizontal  from (1to10) \n",
      "\n",
      "ok! Computer chooses 5 times in vertical  from (1to10) \n"
     ]
    }
   ],
   "source": [
    "# print with computer decisions with random module\n",
    "print(\"welcome\\n\")\n",
    "import random\n",
    "a = random.randint(1,10)\n",
    "b = input(\"what is your name:\\n\")\n",
    "c = random.randint(1,10)\n",
    "if b:\n",
    "    for temp in range(c):\n",
    "        print(f\"{b} \" *a)\n",
    "    print(f\"\\nok! Computer chooses {a} times in horizontal  from (1to10) \")\n",
    "    print(f\"\\nok! Computer chooses {c} times in vertical  from (1to10) \")\n",
    "else:\n",
    "    print(\"\\nplease type your name... once again\")"
   ]
  },
  {
   "cell_type": "code",
   "execution_count": 6,
   "metadata": {},
   "outputs": [
    {
     "name": "stdout",
     "output_type": "stream",
     "text": [
      "😀\n",
      "😀😀\n",
      "😀😀😀\n",
      "😀😀😀😀\n",
      "😀😀😀😀😀\n",
      "😀😀😀😀😀😀\n",
      "😀😀😀😀😀😀😀\n",
      "😀😀😀😀😀😀😀😀\n",
      "😀😀😀😀😀😀😀😀😀\n"
     ]
    }
   ],
   "source": [
    "# print smile with for loop \n",
    "a = \"\\U0001f600\"\n",
    "for x in range(1,10) :\n",
    "   print(a * x)\n",
    "# for every iterable object (x) in range(1,10)"
   ]
  },
  {
   "cell_type": "code",
   "execution_count": 7,
   "metadata": {},
   "outputs": [
    {
     "name": "stdout",
     "output_type": "stream",
     "text": [
      "😀\n",
      "😀😀\n",
      "😀😀😀\n",
      "😀😀😀😀\n",
      "😀😀😀😀😀\n",
      "😀😀😀😀😀😀\n",
      "😀😀😀😀😀😀😀\n",
      "😀😀😀😀😀😀😀😀\n",
      "😀😀😀😀😀😀😀😀😀\n",
      "😀😀😀😀😀😀😀😀😀😀\n"
     ]
    }
   ],
   "source": [
    "#print smile with while loop\n",
    "a = 1\n",
    "while a < 11:\n",
    "    print(\"\\U0001f600\" * a)\n",
    "    a += 1\n",
    "# a will be increment whth 2 every time  when looping\n",
    "# this integer(variable) used only for looping a string variable\n",
    "#a = 1(a)+1\n",
    "#a = 2(a)+1\n"
   ]
  },
  {
   "cell_type": "code",
   "execution_count": 8,
   "metadata": {},
   "outputs": [
    {
     "name": "stdout",
     "output_type": "stream",
     "text": [
      "😀\n",
      "😀😀\n",
      "😀😀😀\n",
      "😀😀😀😀\n",
      "😀😀😀😀😀\n",
      "😀😀😀😀😀😀\n",
      "😀😀😀😀😀😀😀\n",
      "😀😀😀😀😀😀😀😀\n",
      "😀😀😀😀😀😀😀😀😀\n",
      "😀😀😀😀😀😀😀😀😀😀\n"
     ]
    }
   ],
   "source": [
    "# print for loop with for and while loop without multiplication\n",
    "for x in range(1,11):\n",
    "# take two varibles for while loop\n",
    "    a = 1\n",
    "    smile = \"\"\n",
    "    while a <= x :\n",
    "        smile += \"\\U0001f600\"\n",
    "        a += 1\n",
    "# a will be increment whth 2 every time  when looping\n",
    "# this integer(variable) used only for looping a string variable\n",
    "#a = 1(a)+1\n",
    "#a = 2(a)+1\n",
    "    print(smile)\n",
    "# make sure that print is in correct location"
   ]
  },
  {
   "cell_type": "code",
   "execution_count": 9,
   "metadata": {},
   "outputs": [
    {
     "name": "stdout",
     "output_type": "stream",
     "text": [
      "hello\n"
     ]
    },
    {
     "name": "stdin",
     "output_type": "stream",
     "text": [
      "hi\t: hi\n"
     ]
    },
    {
     "name": "stdout",
     "output_type": "stream",
     "text": [
      "\n",
      " hi\n"
     ]
    },
    {
     "name": "stdin",
     "output_type": "stream",
     "text": [
      " what\n"
     ]
    },
    {
     "name": "stdout",
     "output_type": "stream",
     "text": [
      "\n",
      " what\n"
     ]
    },
    {
     "name": "stdin",
     "output_type": "stream",
     "text": [
      " stop\n"
     ]
    },
    {
     "name": "stdout",
     "output_type": "stream",
     "text": [
      "you got it boss.......\n"
     ]
    }
   ],
   "source": [
    "# game with while loop  to stop by giving stop in the input\n",
    "print(\"hello\")\n",
    "a = input(\"hi\\t:\")\n",
    "n = \"\\n\"\n",
    "while a != \"stop\" :\n",
    "    print(n , a )\n",
    "    a = input()\n",
    "print(\"you got it boss.......\")\n",
    "# using a new line variable in the print , give gap in new print at the start "
   ]
  },
  {
   "cell_type": "code",
   "execution_count": 10,
   "metadata": {},
   "outputs": [],
   "source": [
    "# some examples with break \n",
    "# while True:\n",
    "#     command = input(\"Type 'exit' to exit: \")\n",
    "#     if (command == \"exit\"):\n",
    "#         break\n",
    "\n",
    "# for x in range(1, 101):\n",
    "#     print(x)\n",
    "#     if x == 3:\n",
    "#         break\n",
    "\n",
    "# times = int(input(\"How many times do I have to tell you? \"))\n",
    "# \n",
    "# for time in range(times):\n",
    "#     print(\"CLEAN UP YOUR ROOM!\")\n",
    "#     if time >= 3:\n",
    "#         print(\"do you even listen anymore?\")\n",
    "#         break"
   ]
  },
  {
   "cell_type": "code",
   "execution_count": 11,
   "metadata": {},
   "outputs": [
    {
     "name": "stdin",
     "output_type": "stream",
     "text": [
      "guss the number\t: 10\n"
     ]
    },
    {
     "name": "stdout",
     "output_type": "stream",
     "text": [
      "you are chosen  high number\thint:9\t\n"
     ]
    },
    {
     "name": "stdin",
     "output_type": "stream",
     "text": [
      "guss the number\t: 9\n"
     ]
    },
    {
     "name": "stdout",
     "output_type": "stream",
     "text": [
      "you own the match \tAns:9\t\n"
     ]
    },
    {
     "name": "stdin",
     "output_type": "stream",
     "text": [
      "if you want to play again  (y/n)? : y\n"
     ]
    },
    {
     "name": "stdout",
     "output_type": "stream",
     "text": [
      "\n",
      "you got it boss \n"
     ]
    },
    {
     "name": "stdin",
     "output_type": "stream",
     "text": [
      "guss the number\t: 8\n"
     ]
    },
    {
     "name": "stdout",
     "output_type": "stream",
     "text": [
      "you are chosen  high number\thint:4\t\n"
     ]
    },
    {
     "name": "stdin",
     "output_type": "stream",
     "text": [
      "guss the number\t: 4\n"
     ]
    },
    {
     "name": "stdout",
     "output_type": "stream",
     "text": [
      "you own the match \tAns:4\t\n"
     ]
    },
    {
     "name": "stdin",
     "output_type": "stream",
     "text": [
      "if you want to play again  (y/n)? : k\n"
     ]
    },
    {
     "name": "stdout",
     "output_type": "stream",
     "text": [
      "\n",
      "invalid answer the game is shutting down\n"
     ]
    }
   ],
   "source": [
    "#guess game \n",
    "import random\n",
    "a = random.randint(0,10)\n",
    "b = None\n",
    "while True:\n",
    "    b = input(\"guss the number\\t:\")\n",
    "    b = int(b)\n",
    "    if b < a:\n",
    "        print(f\"you are chosen low number\\thint:{a}\\t\")\n",
    "    elif b > a:\n",
    "        print(f\"you are chosen  high number\\thint:{a}\\t\")\n",
    "    else :\n",
    "        print(f\"you own the match \\tAns:{a}\\t\")\n",
    "        c = \"y\"\n",
    "        d = \"n\"\n",
    "        f = input(\"if you want to play again  (y/n)? :\")\n",
    "        if c == f:\n",
    "            print(\"\\nyou got it boss \")\n",
    "            a = random.randint(0,10)\n",
    "            b = None\n",
    "        elif d == f:\n",
    "            print(\"\\nok good bye\")\n",
    "            break\n",
    "        else:\n",
    "            print(\"\\ninvalid answer the game is shutting down\")\n",
    "            break"
   ]
  },
  {
   "cell_type": "code",
   "execution_count": 12,
   "metadata": {},
   "outputs": [
    {
     "name": "stdout",
     "output_type": "stream",
     "text": [
      "chaitanya\n",
      "apple\n",
      "ball\n",
      "chandra\n",
      "chaitu\n",
      "chowdary\n",
      "-----------------------------------------------------------\n",
      "chaitanya\n",
      "apple\n",
      "ball\n",
      "chandra\n",
      "chaitu\n",
      "chowdary\n"
     ]
    }
   ],
   "source": [
    "# print list with for and while loop \n",
    "a = [\"chaitanya\",\"apple\",\"ball\",\"chandra\",\"chaitu\",\"chowdary\"]\n",
    "for x in a :\n",
    "    print(x)\n",
    "print(\"-----------------------------------------------------------\")\n",
    "b = 0\n",
    "while b < len(a) :\n",
    "    print(a[b])\n",
    "    b += 1"
   ]
  },
  {
   "cell_type": "code",
   "execution_count": 13,
   "metadata": {},
   "outputs": [
    {
     "name": "stdout",
     "output_type": "stream",
     "text": [
      "['chaitanya', 'apple', 'ball', 'chandra', 'chaitu']\n",
      "('ball', 'apple')\n",
      "['chaitanya', 'chandra', 'chaitu']\n",
      "None\n",
      "['chaitanya', 'chaitu']\n",
      "[]\n"
     ]
    }
   ],
   "source": [
    "# remove , clear , pop in list  \n",
    "a = [\"chaitanya\",\"apple\",\"ball\",\"chandra\",\"chaitu\",\"chowdary\"]\n",
    "a.pop()\n",
    "print(a)\n",
    "b = a.pop(2),a.pop(1)\n",
    "print(b)\n",
    "print(a)\n",
    "c = a.remove(\"chandra\")\n",
    "print(c)\n",
    "print(a)\n",
    "a.clear()\n",
    "print(a)"
   ]
  },
  {
   "cell_type": "code",
   "execution_count": 14,
   "metadata": {},
   "outputs": [
    {
     "name": "stdout",
     "output_type": "stream",
     "text": [
      "[1]\n",
      "[1, 2, 4]\n",
      "[0, 1, 2, 3, 4]\n",
      "[0, 1, 2, 3, 4, [5, 6]]\n"
     ]
    }
   ],
   "source": [
    "# append , exrend , insert in list data type \n",
    "a = []\n",
    "a.append(1)\n",
    "print(a)\n",
    "a.extend([2,4])\n",
    "print(a)\n",
    "a.insert(0,0,)\n",
    "a.insert(3,3)\n",
    "print(a)\n",
    "a.append([5,6])\n",
    "print(a)"
   ]
  },
  {
   "cell_type": "code",
   "execution_count": 15,
   "metadata": {},
   "outputs": [
    {
     "name": "stdout",
     "output_type": "stream",
     "text": [
      "1\n",
      "1\n",
      "['chaitu', 'chowdary', 'chandra', 'chaitanya']\n",
      "['chaitanya', 'chaitu', 'chandra', 'chowdary']\n",
      "chaitanya , chaitu , chandra , chowdary\n"
     ]
    }
   ],
   "source": [
    "# index . count . reverse , sort , join methods in list \n",
    "a = [\"chaitanya\",\"chandra\",\"chowdary\",\"chaitu\"]\n",
    "b = a.index(\"chandra\" , 0 , 3) # 0 start index and 3 end index\n",
    "print(b)\n",
    "c = a.count(\"chaitu\")\n",
    "print(c)\n",
    "a.reverse()\n",
    "print(a)\n",
    "d = a.sort()\n",
    "print(a)\n",
    "d = \" , \".join(a)\n",
    "print(d)"
   ]
  },
  {
   "cell_type": "code",
   "execution_count": 16,
   "metadata": {},
   "outputs": [
    {
     "name": "stdout",
     "output_type": "stream",
     "text": [
      "['chaitanya', 'chandra', 'chowdary', 'chaitu']\n",
      "['chaitu', 'chowdary', 'chandra', 'chaitanya']\n",
      "['chowdary', 'chaitu']\n",
      "['chowdary', 'chandra', 'chaitanya']\n",
      "['chaitanya']\n",
      "['chaitu', 'chowdary']\n"
     ]
    }
   ],
   "source": [
    "# slicing in lists \n",
    "a = [\"chaitanya\",\"chandra\",\"chowdary\",\"chaitu\"]\n",
    "b = a[0:4]\n",
    "c = a[::-1] # inclusive , exclusive , stage(increment or decrement) in slicing\n",
    "d = a[2::1]\n",
    "e = a[2::-1]\n",
    "f = a[:1:1]\n",
    "g = a[:1:-1]\n",
    "print(b)\n",
    "print(c)\n",
    "print(d)\n",
    "print(e)\n",
    "print(f)\n",
    "print(g)"
   ]
  },
  {
   "cell_type": "code",
   "execution_count": 17,
   "metadata": {},
   "outputs": [
    {
     "name": "stdout",
     "output_type": "stream",
     "text": [
      "['chowdary', 'chaitu']\n",
      "['chaitu', 'chowdary']\n"
     ]
    }
   ],
   "source": [
    "# swapping values in list data type\n",
    "a = [\"chaitanya\",\"chandra\",\"chowdary\",\"chaitu\"]\n",
    "a.remove(\"chandra\")\n",
    "a.remove(\"chaitanya\")\n",
    "print(a)\n",
    "a[0],a[1] = a[1],a[0]\n",
    "print(a)"
   ]
  },
  {
   "cell_type": "code",
   "execution_count": 18,
   "metadata": {},
   "outputs": [
    {
     "name": "stdout",
     "output_type": "stream",
     "text": [
      "[10, 20, 30, 40, 50, 60, 70, 80, 90, 100]\n",
      "---------------------------------------------------------\n",
      "[10, 20, 30, 40, 50, 60, 70, 80, 90, 100]\n"
     ]
    }
   ],
   "source": [
    "# list comprehension vs looping\n",
    "a = [x*10 for x in range(1,11)]\n",
    "print(a)\n",
    "\n",
    "print(\"---------------------------------------------------------\")\n",
    "\n",
    "b = range(1,11)\n",
    "list = []\n",
    "for x in b:\n",
    "    c =x*10\n",
    "    list.append(c)\n",
    "print(list)\n"
   ]
  },
  {
   "cell_type": "code",
   "execution_count": 19,
   "metadata": {},
   "outputs": [
    {
     "name": "stdout",
     "output_type": "stream",
     "text": [
      "['I', 'AM', 'CHAITANYA']\n",
      "[False, False, True, False]\n"
     ]
    }
   ],
   "source": [
    "# some list comprehension examples\n",
    "a =[name.upper() for name in ['i','am','chaitanya']]\n",
    "print(a)\n",
    "b =[bool(name) for name in ['',[],1,0]] #convert data type in list\n",
    "print(b)"
   ]
  },
  {
   "cell_type": "code",
   "execution_count": 20,
   "metadata": {},
   "outputs": [
    {
     "name": "stdout",
     "output_type": "stream",
     "text": [
      "[0, 2, 4, 6, 8, 10, 12, 14, 16, 18, 20, 22, 24, 26, 28, 30, 32, 34, 36, 38, 40, 42, 44, 46, 48, 50, 52, 54, 56, 58, 60, 62, 64, 66, 68, 70, 72, 74, 76, 78, 80, 82, 84, 86, 88, 90, 92, 94, 96, 98, 100]\n",
      "-----------------------------------------------------------------------------------------------------------------\n",
      "[1, 3, 5, 7, 9, 11, 13, 15, 17, 19, 21, 23, 25, 27, 29, 31, 33, 35, 37, 39, 41, 43, 45, 47, 49, 51, 53, 55, 57, 59, 61, 63, 65, 67, 69, 71, 73, 75, 77, 79, 81, 83, 85, 87, 89, 91, 93, 95, 97, 99]\n"
     ]
    }
   ],
   "source": [
    "# finding odds and evens using list comprehension \n",
    "a =range(0,101)\n",
    "c = [b for b in a if b  % 2 == 0] # finding even numbers using list comprehension(if condition)\n",
    "d = [e for e in a if e % 2 != 0] # finding odd numbers using list comprehension (if condition)\n",
    "print(c)\n",
    "print(\"-----------------------------------------------------------------------------------------------------------------\")\n",
    "print(d)"
   ]
  },
  {
   "cell_type": "code",
   "execution_count": 21,
   "metadata": {},
   "outputs": [
    {
     "name": "stdin",
     "output_type": "stream",
     "text": [
      "do you need anything\t: chaitanya\n"
     ]
    },
    {
     "name": "stdout",
     "output_type": "stream",
     "text": [
      "you need \t:['chaitanya']\n"
     ]
    },
    {
     "name": "stdin",
     "output_type": "stream",
     "text": [
      "do you need anything\t: chowdary\n"
     ]
    },
    {
     "name": "stdout",
     "output_type": "stream",
     "text": [
      "you need \t:['chaitanya', 'chowdary']\n"
     ]
    },
    {
     "name": "stdin",
     "output_type": "stream",
     "text": [
      "do you need anything\t: apple\n"
     ]
    },
    {
     "name": "stdout",
     "output_type": "stream",
     "text": [
      "you need \t:['chaitanya', 'chowdary', 'apple']\n"
     ]
    },
    {
     "name": "stdin",
     "output_type": "stream",
     "text": [
      "do you need anything\t: \n"
     ]
    },
    {
     "name": "stdout",
     "output_type": "stream",
     "text": [
      "got it boss you need \t:['chaitanya', 'chowdary', 'apple', '']\n",
      "your items is sorted by list  :['', 'apple', 'chaitanya', 'chowdary']\n"
     ]
    }
   ],
   "source": [
    "# input and output for list \n",
    "list =[] # list is used outside of loop so that it cannot loop and cannot  create duplicate empty list\n",
    "while True:\n",
    "    a = input(\"do you need anything\\t:\")\n",
    "    list.append(a)\n",
    "    if a:\n",
    "        print(f\"you need \\t:{list}\")\n",
    "        continue\n",
    "    else:\n",
    "        print(f\"got it boss you need \\t:{list}\")\n",
    "        break\n",
    "list.sort()\n",
    "print(f\"your items is sorted by list  :{list}\")"
   ]
  },
  {
   "cell_type": "code",
   "execution_count": 22,
   "metadata": {},
   "outputs": [
    {
     "name": "stdout",
     "output_type": "stream",
     "text": [
      "[[1, 2, 3], [1, 2, 3], [1, 2, 3]]\n",
      "[['c', 'h', 'c', 'h'], ['c', 'h', 'c', 'h'], ['c', 'h', 'c', 'h'], ['c', 'h', 'c', 'h']]\n"
     ]
    }
   ],
   "source": [
    "# nested list converhension\n",
    "a = [[ x for x in range(1,4)] for a in range(1,4)]\n",
    "print(a)\n",
    "b = [[\"c\" if num % 2 != 0 else \"h\" for num in range(1,5)] for num in range(1,5)] # if condition over list converhension \n",
    "print(b) "
   ]
  },
  {
   "cell_type": "code",
   "execution_count": 23,
   "metadata": {},
   "outputs": [
    {
     "name": "stdout",
     "output_type": "stream",
     "text": [
      "['*o:', '*o:', '*o:', '*o:', '*o:', '*o:', '*o:', '*o:', '*o:', '*o:']\n"
     ]
    }
   ],
   "source": [
    "# odd or even using list converhension \n",
    "a = [\"*e\" if n / 2 == 0  else \"*o:\" for n in range(1,11)]\n",
    "print(a)"
   ]
  },
  {
   "cell_type": "code",
   "execution_count": 24,
   "metadata": {},
   "outputs": [
    {
     "name": "stdout",
     "output_type": "stream",
     "text": [
      "this is key:1 and this is value:chaitu\n",
      "this is key:2 and this is value:chandra\n",
      "dict_values(['chaitu', 'chandra'])\n",
      "dict_keys([1, 2])\n",
      "dict_items([(1, 'chaitu'), (2, 'chandra')])\n"
     ]
    }
   ],
   "source": [
    "# iterable objects wit# iterable objects with dict\n",
    "a = {1:\"chaitu\",2:\"chandra\"}\n",
    "for key,value in a.items() :\n",
    "    print(f\"this is key:{key} and this is value:{value}\")\n",
    "print(a.values())\n",
    "print(a.keys())\n",
    "print(a.items())"
   ]
  },
  {
   "cell_type": "code",
   "execution_count": 25,
   "metadata": {},
   "outputs": [
    {
     "name": "stdout",
     "output_type": "stream",
     "text": [
      "this keys are correct\n",
      "this values are correct\n"
     ]
    }
   ],
   "source": [
    "# iterable objects with dict\n",
    "a = {1:\"chaitu\",2:\"chandra\"}\n",
    "if 1 and 2 in a :\n",
    "    print(\"this keys are correct\")\n",
    "if \"chaitu\" and \"chandra\" in a.values(): # only .values() are identifying in the dict \n",
    "    print(\"this values are correct\")"
   ]
  },
  {
   "cell_type": "code",
   "execution_count": 26,
   "metadata": {},
   "outputs": [
    {
     "name": "stdout",
     "output_type": "stream",
     "text": [
      "{1: 'nothing', 2: 'nothing', 3: 'nothing', 4: 'nothing'}\n",
      "{'chaitu': 'empty', 'chandrachowdary': 'empty', 'chaitanya': 'empty'}\n",
      "{'c': 'empty', 'h': 'empty', 'a': 'empty', 'i': 'empty', 't': 'empty', 'u': 'empty'}\n",
      "{'c': [1, 2, 3, 4, 5]}\n"
     ]
    }
   ],
   "source": [
    "# fromkeys method in dict\n",
    "a =  {}.fromkeys(range(1,5),\"nothing\")\n",
    "print(a)\n",
    "b = {}.fromkeys(['chaitu','chandra''chowdary','chaitanya'],\"empty\")\n",
    "print(b)\n",
    "c = {}.fromkeys('chaitu',\"empty\")\n",
    "print(c)\n",
    "d = {}.fromkeys('c',[1,2,3,4,5])\n",
    "print(d)"
   ]
  },
  {
   "cell_type": "code",
   "execution_count": 27,
   "metadata": {},
   "outputs": [
    {
     "name": "stdout",
     "output_type": "stream",
     "text": [
      "{'chaitu': 'empty', 'chandrachowdary': 'empty', 'chaitanya': 'empty'}\n",
      "{'chaitu': 'empty', 'chandrachowdary': 'empty', 'chaitanya': 'empty'}\n",
      "False\n",
      "True\n",
      "empty\n",
      "{}\n"
     ]
    }
   ],
   "source": [
    "# some methods in dict\n",
    "b = {}.fromkeys(['chaitu','chandra''chowdary','chaitanya'],\"empty\")\n",
    "print(b)\n",
    "a = b.copy() # copy the data\n",
    "print(a)\n",
    "print(a is b)    # compare memory\n",
    "print(a == b)    # compare values\n",
    "c = b.get('chaitu')\n",
    "print(c)\n",
    "b.clear() # clear the data\n",
    "print(b)"
   ]
  },
  {
   "cell_type": "code",
   "execution_count": 28,
   "metadata": {},
   "outputs": [
    {
     "name": "stdout",
     "output_type": "stream",
     "text": [
      "{'hostname': 'chaitu', 'name': 'chaitanya', 'age': 20}\n",
      "{'hostname': 'chaitu', 'name': 'chaitu chowdary', 'age': 20}\n",
      "{'hostname': 'chaitu', 'name': 'chaitu chowdary'}\n",
      "{'name': 'chaitu chowdary'}\n"
     ]
    }
   ],
   "source": [
    "# cont .. some methods in dict\n",
    "a = {'name':'chaitanya','age':20}\n",
    "b = {'hostname':'chaitu'}\n",
    "b.update(a)  # copy in update\n",
    "print(b)\n",
    "c = {'name':'chaitu chowdary'}\n",
    "b.update(c)  # overwrite in update\n",
    "print(b)\n",
    "b.popitem() # remove the random item\n",
    "print(b)\n",
    "b.pop('hostname') # remove based on keypair\n",
    "print(b)"
   ]
  },
  {
   "cell_type": "code",
   "execution_count": 29,
   "metadata": {},
   "outputs": [
    {
     "name": "stdout",
     "output_type": "stream",
     "text": [
      "{0: 'even', 1: 'odd', 2: 'even', 3: 'odd', 4: 'even', 5: 'odd', 6: 'even', 7: 'odd', 8: 'even', 9: 'odd', 10: 'even', 11: 'odd', 12: 'even', 13: 'odd', 14: 'even', 15: 'odd', 16: 'even', 17: 'odd', 18: 'even', 19: 'odd', 20: 'even', 21: 'odd', 22: 'even', 23: 'odd', 24: 'even', 25: 'odd', 26: 'even', 27: 'odd', 28: 'even', 29: 'odd', 30: 'even', 31: 'odd', 32: 'even', 33: 'odd', 34: 'even', 35: 'odd', 36: 'even', 37: 'odd', 38: 'even', 39: 'odd', 40: 'even', 41: 'odd', 42: 'even', 43: 'odd', 44: 'even', 45: 'odd', 46: 'even', 47: 'odd', 48: 'even', 49: 'odd', 50: 'even', 51: 'odd', 52: 'even', 53: 'odd', 54: 'even', 55: 'odd', 56: 'even', 57: 'odd', 58: 'even', 59: 'odd', 60: 'even', 61: 'odd', 62: 'even', 63: 'odd', 64: 'even', 65: 'odd', 66: 'even', 67: 'odd', 68: 'even', 69: 'odd', 70: 'even', 71: 'odd', 72: 'even', 73: 'odd', 74: 'even', 75: 'odd', 76: 'even', 77: 'odd', 78: 'even', 79: 'odd', 80: 'even', 81: 'odd', 82: 'even', 83: 'odd', 84: 'even', 85: 'odd', 86: 'even', 87: 'odd', 88: 'even', 89: 'odd', 90: 'even', 91: 'odd', 92: 'even', 93: 'odd', 94: 'even', 95: 'odd', 96: 'even', 97: 'odd', 98: 'even', 99: 'odd', 100: 'even'}\n"
     ]
    }
   ],
   "source": [
    "# dict comprehension for  odd numbers and even numbers with conditional logic\n",
    "a = {num: \"even\" if num % 2 == 0 else \"odd\" for num in range(0,101)}\n",
    "print(a)"
   ]
  },
  {
   "cell_type": "code",
   "execution_count": 30,
   "metadata": {},
   "outputs": [
    {
     "name": "stdout",
     "output_type": "stream",
     "text": [
      "primes:[2, 3, 5, 7, 11, 13, 17, 19, 23, 29, 31, 37, 41, 43, 47, 53, 59, 61, 67, 71, 73, 79, 83, 89, 97]\n"
     ]
    }
   ],
   "source": [
    "# printing primes and non primes with list converhension\n",
    "no_primes = [i for i in range(2,8) for i in range(i*2,101,i)] # primes srart from 2\n",
    "primes = [j for j in range(2,101) if j not in no_primes]\n",
    "print(f\"primes:{primes}\")\n",
    "\n",
    "# a = []\n",
    "# for i in range(2,8):\n",
    "#     for i in range(i*2,101,i):\n",
    "#         a.append(i)\n",
    "\n",
    "# b = []\n",
    "# for j in range(2,101):\n",
    "#    if j not in a :\n",
    "#        b.append(j)\n",
    "# print(b)"
   ]
  },
  {
   "cell_type": "code",
   "execution_count": 31,
   "metadata": {},
   "outputs": [
    {
     "name": "stdout",
     "output_type": "stream",
     "text": [
      "['THIS', 'this', 4]\n",
      "['IS', 'is', 2]\n",
      "['CHAITANYA', 'chaitanya', 9]\n",
      "['CHOWDARY', 'chowdary', 8]\n"
     ]
    }
   ],
   "source": [
    "# list converhensation with words\n",
    "a = 'this is chaitanya chowdary'\n",
    "c = a.split()\n",
    "b = [[w.upper(),w.lower(),len(w)] for w in c]\n",
    "for x in b :\n",
    "    print(x)"
   ]
  },
  {
   "cell_type": "code",
   "execution_count": 32,
   "metadata": {},
   "outputs": [
    {
     "name": "stdout",
     "output_type": "stream",
     "text": [
      "210\n",
      "-----------------------------------------------------------------------\n",
      "210\n"
     ]
    }
   ],
   "source": [
    "# adding values with for loop and while loop \n",
    "x = (10,20,30,40,50,60)\n",
    "a = 0\n",
    "for y in x:\n",
    "    a = a+y\n",
    "print(a)\n",
    "\n",
    "print(\"-----------------------------------------------------------------------\")\n",
    "\n",
    "b = 0\n",
    "sum =0\n",
    "i=0\n",
    "while b < len(x):\n",
    "    sum += x[i]\n",
    "    i += 1 # for increment in index of slicing \n",
    "    b += 1 # used as duplicate for looping \n",
    "print(sum)"
   ]
  },
  {
   "cell_type": "code",
   "execution_count": 33,
   "metadata": {},
   "outputs": [
    {
     "name": "stdout",
     "output_type": "stream",
     "text": [
      "this is key\t:a \tand\t this is value\t:chaitanya\n",
      "this is key\t:b \tand\t this is value\t:chaitu\n",
      "this is key\t:c \tand\t this is value\t:chowdary\n"
     ]
    }
   ],
   "source": [
    "# printing a key value pair from dict \n",
    "a = {'a':'chaitanya','b':'chaitu','c':'chowdary'}\n",
    "kv = a.items()\n",
    "s = 0\n",
    "for j,k in kv:\n",
    "    print(f'this is key\\t:{j} \\tand\\t this is value\\t:{k}')"
   ]
  },
  {
   "cell_type": "code",
   "execution_count": 13,
   "metadata": {},
   "outputs": [
    {
     "name": "stdout",
     "output_type": "stream",
     "text": [
      "😀😀😀😀😀😀😀😀😀😀😀😀😀😀😀😀😀😀😀😀😀😀😀😀😀😀😀😀😀😀😀😀😀😀😀😀😀😀😀😀😀😀😀😀😀😀😀😀😀😀😀😀😀😀😀😀😀😀😀😀😀😀😀😀😀😀😀😀😀😀😀😀😀😀😀😀😀😀😀😀😀😀😀😀😀😀😀😀😀😀😀😀😀😀😀😀😀😀😀😀😀😀😀😀😀😀😀😀😀😀😀😀😀😀😀😀😀😀😀😀😀😀😀😀😀😀😀😀😀😀😀😀😀😀😀😀😀😀😀😀😀😀😀😀😀😀😀😀😀😀😀😀😀😀😀😀😀😀😀😀😀😀😀😀😀😀😀😀\n"
     ]
    }
   ],
   "source": [
    "print('\\U0001f600'*168)"
   ]
  },
  {
   "cell_type": "code",
   "execution_count": null,
   "metadata": {},
   "outputs": [],
   "source": []
  }
 ],
 "metadata": {
  "kernelspec": {
   "display_name": "Python 3",
   "language": "python",
   "name": "python3"
  },
  "language_info": {
   "codemirror_mode": {
    "name": "ipython",
    "version": 3
   },
   "file_extension": ".py",
   "mimetype": "text/x-python",
   "name": "python",
   "nbconvert_exporter": "python",
   "pygments_lexer": "ipython3",
   "version": "3.7.4"
  }
 },
 "nbformat": 4,
 "nbformat_minor": 4
}
