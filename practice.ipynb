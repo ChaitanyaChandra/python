{
 "cells": [
  {
   "cell_type": "code",
   "execution_count": 1,
   "metadata": {},
   "outputs": [
    {
     "name": "stdout",
     "output_type": "stream",
     "text": [
      "1 is odd\n",
      "2 is even\n",
      "3 is odd\n",
      "4 is is not a good sign\n",
      "5 is odd\n",
      "6 is even\n",
      "7 is odd\n",
      "8 is even\n",
      "9 is odd\n",
      "10 is even\n",
      "11 is odd\n",
      "12 is even\n",
      "13 is is not a good sign\n",
      "14 is even\n",
      "15 is odd\n",
      "16 is even\n",
      "17 is odd\n",
      "18 is even\n",
      "19 is odd\n",
      "20 is even\n"
     ]
    }
   ],
   "source": [
    "#range shows odd numbers and even numbers with conditions \n",
    "a = range(1,21)\n",
    "for num in a :\n",
    "    if num == 4 or num == 13:\n",
    "        stage = \"is not a good sign\"\n",
    "        #print(f\"{num} is not a good sign\")\n",
    "    elif num % 2 == 0:\n",
    "        stage = \"even\"\n",
    "        #print(f\"{num} is even \")\n",
    "    else :\n",
    "        stage = \"odd\"\n",
    "        #print(f\"{num} is odd \")\n",
    "    print(f\"{num} is {stage}\")"
   ]
  },
  {
   "cell_type": "code",
   "execution_count": 2,
   "metadata": {},
   "outputs": [
    {
     "name": "stdout",
     "output_type": "stream",
     "text": [
      "welcome\n",
      "Please enter the kilometers: \n"
     ]
    },
    {
     "name": "stdin",
     "output_type": "stream",
     "text": [
      " 10\n"
     ]
    },
    {
     "name": "stdout",
     "output_type": "stream",
     "text": [
      "Go a head...\n",
      "In 10 kilometers the miles  is :6.21373 \n"
     ]
    }
   ],
   "source": [
    "# Km to mile command \n",
    "print(\"welcome\\nPlease enter the kilometers: \")\n",
    "kms = input()\n",
    "miles = float(kms)/1.60934\n",
    "roundup = round(miles ,5)\n",
    "print(f\"Go a head...\\nIn {kms} kilometers the miles  is :{roundup} \")\n",
    "# In this cmd we are taken the data  from the order mile to km "
   ]
  },
  {
   "cell_type": "code",
   "execution_count": 3,
   "metadata": {},
   "outputs": [
    {
     "name": "stdin",
     "output_type": "stream",
     "text": [
      "enter your age please :  16\n"
     ]
    },
    {
     "name": "stdout",
     "output_type": "stream",
     "text": [
      "you have 16 years old and you are teen ager.\n",
      "you dont have right to vote!\n"
     ]
    }
   ],
   "source": [
    "# voting rights based on age\n",
    "age = input(\"enter your age please : \")\n",
    "if age:\n",
    "    num = int(age)\n",
    "    if num <=11 and num >= 1:\n",
    "        print(f\"you have {age} years old.\\nyou dont have right to vote!\" )\n",
    "    elif num >= 12 and num <=17:\n",
    "        print(f\"you have {age} years old and you are teen ager.\\nyou dont have right to vote!\")\n",
    "    elif num >=18 and num <=20:\n",
    "        print(f\"you are elgible to vote in age {age}. read the list carefully and vote\")\n",
    "    elif num >=21 and num <=50:\n",
    "        print(f\"you have {age} years old . you  are elgible to vote.\")\n",
    "    else:\n",
    "        print(f\"you are senior citigen and your age about {age}\")\n",
    "else :\n",
    "    print(\"please enter your age\")\n",
    "#not solved by showing in list "
   ]
  },
  {
   "cell_type": "code",
   "execution_count": 4,
   "metadata": {},
   "outputs": [
    {
     "name": "stdin",
     "output_type": "stream",
     "text": [
      "what do you want to call:\n",
      "\n",
      " chaitu\n",
      "how many times you  want to call:\n",
      "\n",
      " 5\n"
     ]
    },
    {
     "name": "stdout",
     "output_type": "stream",
     "text": [
      "chaitu chaitu chaitu chaitu chaitu chaitu chaitu chaitu chaitu chaitu \n",
      "chaitu chaitu chaitu chaitu chaitu chaitu chaitu chaitu chaitu chaitu \n",
      "chaitu chaitu chaitu chaitu chaitu chaitu chaitu chaitu chaitu chaitu \n",
      "chaitu chaitu chaitu chaitu chaitu chaitu chaitu chaitu chaitu chaitu \n",
      "chaitu chaitu chaitu chaitu chaitu chaitu chaitu chaitu chaitu chaitu \n"
     ]
    }
   ],
   "source": [
    "# by using input print the output using for-loop with range\n",
    "a = input(\"what do you want to call:\\n\\n\")\n",
    "b = input(\"how many times you  want to call:\\n\\n\")\n",
    "if a and b:\n",
    "    b = int(b)\n",
    "    c = 10\n",
    "    for x in range(b):\n",
    "        print(f\"{a} \" * c )\n",
    "else:\n",
    "    print(\"you didn't type anything..\\nplease type correctly\")\n",
    "# using if for enpty strings"
   ]
  },
  {
   "cell_type": "code",
   "execution_count": 2,
   "metadata": {},
   "outputs": [
    {
     "name": "stdout",
     "output_type": "stream",
     "text": [
      "welcome\n",
      "\n"
     ]
    },
    {
     "name": "stdin",
     "output_type": "stream",
     "text": [
      "what is your name:\n",
      " chandra\n"
     ]
    },
    {
     "name": "stdout",
     "output_type": "stream",
     "text": [
      "chandra chandra chandra \n",
      "chandra chandra chandra \n",
      "chandra chandra chandra \n",
      "chandra chandra chandra \n",
      "chandra chandra chandra \n",
      "\n",
      "ok! Computer chooses 3 times in horizontal  from (1to10) \n",
      "\n",
      "ok! Computer chooses 5 times in vertical  from (1to10) \n"
     ]
    }
   ],
   "source": [
    "# print with computer decisions with random module\n",
    "print(\"welcome\\n\")\n",
    "import random\n",
    "a = random.randint(1,10)\n",
    "b = input(\"what is your name:\\n\")\n",
    "c = random.randint(1,10)\n",
    "if b:\n",
    "    for temp in range(c):\n",
    "        print(f\"{b} \" *a)\n",
    "    print(f\"\\nok! Computer chooses {a} times in horizontal  from (1to10) \")\n",
    "    print(f\"\\nok! Computer chooses {c} times in vertical  from (1to10) \")\n",
    "else:\n",
    "    print(\"\\nplease type your name... once again\")"
   ]
  },
  {
   "cell_type": "code",
   "execution_count": 3,
   "metadata": {},
   "outputs": [
    {
     "name": "stdout",
     "output_type": "stream",
     "text": [
      "😀\n",
      "😀😀\n",
      "😀😀😀\n",
      "😀😀😀😀\n",
      "😀😀😀😀😀\n",
      "😀😀😀😀😀😀\n",
      "😀😀😀😀😀😀😀\n",
      "😀😀😀😀😀😀😀😀\n",
      "😀😀😀😀😀😀😀😀😀\n"
     ]
    }
   ],
   "source": [
    "# print smile with for loop \n",
    "a = \"\\U0001f600\"\n",
    "for x in range(1,10) :\n",
    "   print(a * x)\n",
    "# for every iterable object (x) in range(1,10)"
   ]
  },
  {
   "cell_type": "code",
   "execution_count": 4,
   "metadata": {},
   "outputs": [
    {
     "name": "stdout",
     "output_type": "stream",
     "text": [
      "😀\n",
      "😀😀\n",
      "😀😀😀\n",
      "😀😀😀😀\n",
      "😀😀😀😀😀\n",
      "😀😀😀😀😀😀\n",
      "😀😀😀😀😀😀😀\n",
      "😀😀😀😀😀😀😀😀\n",
      "😀😀😀😀😀😀😀😀😀\n",
      "😀😀😀😀😀😀😀😀😀😀\n"
     ]
    }
   ],
   "source": [
    "#print smile with while loop\n",
    "a = 1\n",
    "while a < 11:\n",
    "    print(\"\\U0001f600\" * a)\n",
    "    a += 1\n",
    "# a will be increment whth 2 every time  when looping\n",
    "# this integer(variable) used only for looping a string variable\n",
    "#a = 1(a)+1\n",
    "#a = 2(a)+1\n"
   ]
  },
  {
   "cell_type": "code",
   "execution_count": 5,
   "metadata": {},
   "outputs": [
    {
     "name": "stdout",
     "output_type": "stream",
     "text": [
      "😀\n",
      "😀😀\n",
      "😀😀😀\n",
      "😀😀😀😀\n",
      "😀😀😀😀😀\n",
      "😀😀😀😀😀😀\n",
      "😀😀😀😀😀😀😀\n",
      "😀😀😀😀😀😀😀😀\n",
      "😀😀😀😀😀😀😀😀😀\n",
      "😀😀😀😀😀😀😀😀😀😀\n"
     ]
    }
   ],
   "source": [
    "# print for loop with for and while loop without multiplication\n",
    "for x in range(1,11):\n",
    "# take two varibles for while loop\n",
    "    a = 1\n",
    "    smile = \"\"\n",
    "    while a <= x :\n",
    "        smile += \"\\U0001f600\"\n",
    "        a += 1\n",
    "# a will be increment whth 2 every time  when looping\n",
    "# this integer(variable) used only for looping a string variable\n",
    "#a = 1(a)+1\n",
    "#a = 2(a)+1\n",
    "    print(smile)\n",
    "# make sure that print is in correct location"
   ]
  },
  {
   "cell_type": "code",
   "execution_count": null,
   "metadata": {},
   "outputs": [],
   "source": []
  }
 ],
 "metadata": {
  "kernelspec": {
   "display_name": "Python 3",
   "language": "python",
   "name": "python3"
  },
  "language_info": {
   "codemirror_mode": {
    "name": "ipython",
    "version": 3
   },
   "file_extension": ".py",
   "mimetype": "text/x-python",
   "name": "python",
   "nbconvert_exporter": "python",
   "pygments_lexer": "ipython3",
   "version": "3.7.4"
  }
 },
 "nbformat": 4,
 "nbformat_minor": 4
}
