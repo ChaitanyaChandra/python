{
 "cells": [
  {
   "cell_type": "code",
   "execution_count": 1,
   "metadata": {},
   "outputs": [
    {
     "name": "stdout",
     "output_type": "stream",
     "text": [
      "1 is odd\n",
      "2 is even\n",
      "3 is odd\n",
      "4 is is not a good sign\n",
      "5 is odd\n",
      "6 is even\n",
      "7 is odd\n",
      "8 is even\n",
      "9 is odd\n",
      "10 is even\n",
      "11 is odd\n",
      "12 is even\n",
      "13 is is not a good sign\n",
      "14 is even\n",
      "15 is odd\n",
      "16 is even\n",
      "17 is odd\n",
      "18 is even\n",
      "19 is odd\n",
      "20 is even\n"
     ]
    }
   ],
   "source": [
    "#range shows odd numbers and even numbers with conditions \n",
    "a = range(1,21)\n",
    "for num in a :\n",
    "    if num == 4 or num == 13:\n",
    "        stage = \"is not a good sign\"\n",
    "        #print(f\"{num} is not a good sign\")\n",
    "    elif num % 2 == 0:\n",
    "        stage = \"even\"\n",
    "        #print(f\"{num} is even \")\n",
    "    else :\n",
    "        stage = \"odd\"\n",
    "        #print(f\"{num} is odd \")\n",
    "    print(f\"{num} is {stage}\")"
   ]
  },
  {
   "cell_type": "code",
   "execution_count": 2,
   "metadata": {},
   "outputs": [
    {
     "name": "stdout",
     "output_type": "stream",
     "text": [
      "welcome\n",
      "Please enter the kilometers: \n"
     ]
    },
    {
     "name": "stdin",
     "output_type": "stream",
     "text": [
      " 10\n"
     ]
    },
    {
     "name": "stdout",
     "output_type": "stream",
     "text": [
      "Go a head...\n",
      "In 10 kilometers the miles  is :6.21373 \n"
     ]
    }
   ],
   "source": [
    "# Km to mile command \n",
    "print(\"welcome\\nPlease enter the kilometers: \")\n",
    "kms = input()\n",
    "miles = float(kms)/1.60934\n",
    "roundup = round(miles ,5)\n",
    "print(f\"Go a head...\\nIn {kms} kilometers the miles  is :{roundup} \")\n",
    "# In this cmd we are taken the data  from the order mile to km "
   ]
  },
  {
   "cell_type": "code",
   "execution_count": 3,
   "metadata": {},
   "outputs": [
    {
     "name": "stdin",
     "output_type": "stream",
     "text": [
      "enter your age please :  16\n"
     ]
    },
    {
     "name": "stdout",
     "output_type": "stream",
     "text": [
      "you have 16 years old and you are teen ager.\n",
      "you dont have right to vote!\n"
     ]
    }
   ],
   "source": [
    "# voting rights based on age\n",
    "age = input(\"enter your age please : \")\n",
    "if age:\n",
    "    num = int(age)\n",
    "    if num <=11 and num >= 1:\n",
    "        print(f\"you have {age} years old.\\nyou dont have right to vote!\" )\n",
    "    elif num >= 12 and num <=17:\n",
    "        print(f\"you have {age} years old and you are teen ager.\\nyou dont have right to vote!\")\n",
    "    elif num >=18 and num <=20:\n",
    "        print(f\"you are elgible to vote in age {age}. read the list carefully and vote\")\n",
    "    elif num >=21 and num <=50:\n",
    "        print(f\"you have {age} years old . you  are elgible to vote.\")\n",
    "    else:\n",
    "        print(f\"you are senior citigen and your age about {age}\")\n",
    "else :\n",
    "    print(\"please enter your age\")\n",
    "#not solved by showing in list "
   ]
  },
  {
   "cell_type": "code",
   "execution_count": 4,
   "metadata": {},
   "outputs": [
    {
     "name": "stdin",
     "output_type": "stream",
     "text": [
      "what do you want to call:\n",
      "\n",
      " chaitu\n",
      "how many times you  want to call:\n",
      "\n",
      " 5\n"
     ]
    },
    {
     "name": "stdout",
     "output_type": "stream",
     "text": [
      "chaitu chaitu chaitu chaitu chaitu chaitu chaitu chaitu chaitu chaitu \n",
      "chaitu chaitu chaitu chaitu chaitu chaitu chaitu chaitu chaitu chaitu \n",
      "chaitu chaitu chaitu chaitu chaitu chaitu chaitu chaitu chaitu chaitu \n",
      "chaitu chaitu chaitu chaitu chaitu chaitu chaitu chaitu chaitu chaitu \n",
      "chaitu chaitu chaitu chaitu chaitu chaitu chaitu chaitu chaitu chaitu \n"
     ]
    }
   ],
   "source": [
    "# by using input print the output using for-loop with range\n",
    "a = input(\"what do you want to call:\\n\\n\")\n",
    "b = input(\"how many times you  want to call:\\n\\n\")\n",
    "if a and b:\n",
    "    b = int(b)\n",
    "    c = 10\n",
    "    for x in range(b):\n",
    "        print(f\"{a} \" * c )\n",
    "else:\n",
    "    print(\"you didn't type anything..\\nplease type correctly\")\n",
    "# using if for enpty strings"
   ]
  },
  {
   "cell_type": "code",
   "execution_count": 5,
   "metadata": {},
   "outputs": [
    {
     "name": "stdout",
     "output_type": "stream",
     "text": [
      "welcome\n",
      "\n"
     ]
    },
    {
     "name": "stdin",
     "output_type": "stream",
     "text": [
      "what is your name:\n",
      " chandra\n"
     ]
    },
    {
     "name": "stdout",
     "output_type": "stream",
     "text": [
      "chandra chandra chandra \n",
      "chandra chandra chandra \n",
      "chandra chandra chandra \n",
      "chandra chandra chandra \n",
      "chandra chandra chandra \n",
      "\n",
      "ok! Computer chooses 3 times in horizontal  from (1to10) \n",
      "\n",
      "ok! Computer chooses 5 times in vertical  from (1to10) \n"
     ]
    }
   ],
   "source": [
    "# print with computer decisions with random module\n",
    "print(\"welcome\\n\")\n",
    "import random\n",
    "a = random.randint(1,10)\n",
    "b = input(\"what is your name:\\n\")\n",
    "c = random.randint(1,10)\n",
    "if b:\n",
    "    for temp in range(c):\n",
    "        print(f\"{b} \" *a)\n",
    "    print(f\"\\nok! Computer chooses {a} times in horizontal  from (1to10) \")\n",
    "    print(f\"\\nok! Computer chooses {c} times in vertical  from (1to10) \")\n",
    "else:\n",
    "    print(\"\\nplease type your name... once again\")"
   ]
  },
  {
   "cell_type": "code",
   "execution_count": 6,
   "metadata": {},
   "outputs": [
    {
     "name": "stdout",
     "output_type": "stream",
     "text": [
      "😀\n",
      "😀😀\n",
      "😀😀😀\n",
      "😀😀😀😀\n",
      "😀😀😀😀😀\n",
      "😀😀😀😀😀😀\n",
      "😀😀😀😀😀😀😀\n",
      "😀😀😀😀😀😀😀😀\n",
      "😀😀😀😀😀😀😀😀😀\n"
     ]
    }
   ],
   "source": [
    "# print smile with for loop \n",
    "a = \"\\U0001f600\"\n",
    "for x in range(1,10) :\n",
    "   print(a * x)\n",
    "# for every iterable object (x) in range(1,10)"
   ]
  },
  {
   "cell_type": "code",
   "execution_count": 7,
   "metadata": {},
   "outputs": [
    {
     "name": "stdout",
     "output_type": "stream",
     "text": [
      "😀\n",
      "😀😀\n",
      "😀😀😀\n",
      "😀😀😀😀\n",
      "😀😀😀😀😀\n",
      "😀😀😀😀😀😀\n",
      "😀😀😀😀😀😀😀\n",
      "😀😀😀😀😀😀😀😀\n",
      "😀😀😀😀😀😀😀😀😀\n",
      "😀😀😀😀😀😀😀😀😀😀\n"
     ]
    }
   ],
   "source": [
    "#print smile with while loop\n",
    "a = 1\n",
    "while a < 11:\n",
    "    print(\"\\U0001f600\" * a)\n",
    "    a += 1\n",
    "# a will be increment whth 2 every time  when looping\n",
    "# this integer(variable) used only for looping a string variable\n",
    "#a = 1(a)+1\n",
    "#a = 2(a)+1\n"
   ]
  },
  {
   "cell_type": "code",
   "execution_count": 8,
   "metadata": {},
   "outputs": [
    {
     "name": "stdout",
     "output_type": "stream",
     "text": [
      "😀\n",
      "😀😀\n",
      "😀😀😀\n",
      "😀😀😀😀\n",
      "😀😀😀😀😀\n",
      "😀😀😀😀😀😀\n",
      "😀😀😀😀😀😀😀\n",
      "😀😀😀😀😀😀😀😀\n",
      "😀😀😀😀😀😀😀😀😀\n",
      "😀😀😀😀😀😀😀😀😀😀\n"
     ]
    }
   ],
   "source": [
    "# print for loop with for and while loop without multiplication\n",
    "for x in range(1,11):\n",
    "# take two varibles for while loop\n",
    "    a = 1\n",
    "    smile = \"\"\n",
    "    while a <= x :\n",
    "        smile += \"\\U0001f600\"\n",
    "        a += 1\n",
    "# a will be increment whth 2 every time  when looping\n",
    "# this integer(variable) used only for looping a string variable\n",
    "#a = 1(a)+1\n",
    "#a = 2(a)+1\n",
    "    print(smile)\n",
    "# make sure that print is in correct location"
   ]
  },
  {
   "cell_type": "code",
   "execution_count": 9,
   "metadata": {},
   "outputs": [
    {
     "name": "stdout",
     "output_type": "stream",
     "text": [
      "hello\n"
     ]
    },
    {
     "name": "stdin",
     "output_type": "stream",
     "text": [
      "hi\t: hi\n"
     ]
    },
    {
     "name": "stdout",
     "output_type": "stream",
     "text": [
      "\n",
      " hi\n"
     ]
    },
    {
     "name": "stdin",
     "output_type": "stream",
     "text": [
      " what\n"
     ]
    },
    {
     "name": "stdout",
     "output_type": "stream",
     "text": [
      "\n",
      " what\n"
     ]
    },
    {
     "name": "stdin",
     "output_type": "stream",
     "text": [
      " stop\n"
     ]
    },
    {
     "name": "stdout",
     "output_type": "stream",
     "text": [
      "you got it boss.......\n"
     ]
    }
   ],
   "source": [
    "# game with while loop  to stop by giving stop in the input\n",
    "print(\"hello\")\n",
    "a = input(\"hi\\t:\")\n",
    "n = \"\\n\"\n",
    "while a != \"stop\" :\n",
    "    print(n , a )\n",
    "    a = input()\n",
    "print(\"you got it boss.......\")\n",
    "# using a new line variable in the print , give gap in new print at the start "
   ]
  },
  {
   "cell_type": "code",
   "execution_count": 10,
   "metadata": {},
   "outputs": [],
   "source": [
    "# some examples with break \n",
    "# while True:\n",
    "#     command = input(\"Type 'exit' to exit: \")\n",
    "#     if (command == \"exit\"):\n",
    "#         break\n",
    "\n",
    "# for x in range(1, 101):\n",
    "#     print(x)\n",
    "#     if x == 3:\n",
    "#         break\n",
    "\n",
    "# times = int(input(\"How many times do I have to tell you? \"))\n",
    "# \n",
    "# for time in range(times):\n",
    "#     print(\"CLEAN UP YOUR ROOM!\")\n",
    "#     if time >= 3:\n",
    "#         print(\"do you even listen anymore?\")\n",
    "#         break"
   ]
  },
  {
   "cell_type": "code",
   "execution_count": 11,
   "metadata": {},
   "outputs": [
    {
     "name": "stdin",
     "output_type": "stream",
     "text": [
      "guss the number\t: 10\n"
     ]
    },
    {
     "name": "stdout",
     "output_type": "stream",
     "text": [
      "you are chosen  high number\thint:9\t\n"
     ]
    },
    {
     "name": "stdin",
     "output_type": "stream",
     "text": [
      "guss the number\t: 9\n"
     ]
    },
    {
     "name": "stdout",
     "output_type": "stream",
     "text": [
      "you own the match \tAns:9\t\n"
     ]
    },
    {
     "name": "stdin",
     "output_type": "stream",
     "text": [
      "if you want to play again  (y/n)? : y\n"
     ]
    },
    {
     "name": "stdout",
     "output_type": "stream",
     "text": [
      "\n",
      "you got it boss \n"
     ]
    },
    {
     "name": "stdin",
     "output_type": "stream",
     "text": [
      "guss the number\t: 8\n"
     ]
    },
    {
     "name": "stdout",
     "output_type": "stream",
     "text": [
      "you are chosen  high number\thint:4\t\n"
     ]
    },
    {
     "name": "stdin",
     "output_type": "stream",
     "text": [
      "guss the number\t: 4\n"
     ]
    },
    {
     "name": "stdout",
     "output_type": "stream",
     "text": [
      "you own the match \tAns:4\t\n"
     ]
    },
    {
     "name": "stdin",
     "output_type": "stream",
     "text": [
      "if you want to play again  (y/n)? : k\n"
     ]
    },
    {
     "name": "stdout",
     "output_type": "stream",
     "text": [
      "\n",
      "invalid answer the game is shutting down\n"
     ]
    }
   ],
   "source": [
    "#guess game \n",
    "import random\n",
    "a = random.randint(0,10)\n",
    "b = None\n",
    "while True:\n",
    "    b = input(\"guss the number\\t:\")\n",
    "    b = int(b)\n",
    "    if b < a:\n",
    "        print(f\"you are chosen low number\\thint:{a}\\t\")\n",
    "    elif b > a:\n",
    "        print(f\"you are chosen  high number\\thint:{a}\\t\")\n",
    "    else :\n",
    "        print(f\"you own the match \\tAns:{a}\\t\")\n",
    "        c = \"y\"\n",
    "        d = \"n\"\n",
    "        f = input(\"if you want to play again  (y/n)? :\")\n",
    "        if c == f:\n",
    "            print(\"\\nyou got it boss \")\n",
    "            a = random.randint(0,10)\n",
    "            b = None\n",
    "        elif d == f:\n",
    "            print(\"\\nok good bye\")\n",
    "            break\n",
    "        else:\n",
    "            print(\"\\ninvalid answer the game is shutting down\")\n",
    "            break"
   ]
  },
  {
   "cell_type": "code",
   "execution_count": 12,
   "metadata": {},
   "outputs": [
    {
     "name": "stdout",
     "output_type": "stream",
     "text": [
      "chaitanya\n",
      "apple\n",
      "ball\n",
      "chandra\n",
      "chaitu\n",
      "chowdary\n",
      "-----------------------------------------------------------\n",
      "chaitanya\n",
      "apple\n",
      "ball\n",
      "chandra\n",
      "chaitu\n",
      "chowdary\n"
     ]
    }
   ],
   "source": [
    "# print list with for and while loop \n",
    "a = [\"chaitanya\",\"apple\",\"ball\",\"chandra\",\"chaitu\",\"chowdary\"]\n",
    "for x in a :\n",
    "    print(x)\n",
    "print(\"-----------------------------------------------------------\")\n",
    "b = 0\n",
    "while b < len(a) :\n",
    "    print(a[b])\n",
    "    b += 1"
   ]
  },
  {
   "cell_type": "code",
   "execution_count": 13,
   "metadata": {},
   "outputs": [
    {
     "name": "stdout",
     "output_type": "stream",
     "text": [
      "['chaitanya', 'apple', 'ball', 'chandra', 'chaitu']\n",
      "('ball', 'apple')\n",
      "['chaitanya', 'chandra', 'chaitu']\n",
      "None\n",
      "['chaitanya', 'chaitu']\n",
      "[]\n"
     ]
    }
   ],
   "source": [
    "# remove , clear , pop in list  \n",
    "a = [\"chaitanya\",\"apple\",\"ball\",\"chandra\",\"chaitu\",\"chowdary\"]\n",
    "a.pop()\n",
    "print(a)\n",
    "b = a.pop(2),a.pop(1)\n",
    "print(b)\n",
    "print(a)\n",
    "c = a.remove(\"chandra\")\n",
    "print(c)\n",
    "print(a)\n",
    "a.clear()\n",
    "print(a)"
   ]
  },
  {
   "cell_type": "code",
   "execution_count": 14,
   "metadata": {},
   "outputs": [
    {
     "name": "stdout",
     "output_type": "stream",
     "text": [
      "[1]\n",
      "[1, 2, 4]\n",
      "[0, 1, 2, 3, 4]\n",
      "[0, 1, 2, 3, 4, [5, 6]]\n"
     ]
    }
   ],
   "source": [
    "# append , exrend , insert in list data type \n",
    "a = []\n",
    "a.append(1)\n",
    "print(a)\n",
    "a.extend([2,4])\n",
    "print(a)\n",
    "a.insert(0,0,)\n",
    "a.insert(3,3)\n",
    "print(a)\n",
    "a.append([5,6])\n",
    "print(a)"
   ]
  },
  {
   "cell_type": "code",
   "execution_count": 15,
   "metadata": {},
   "outputs": [
    {
     "name": "stdout",
     "output_type": "stream",
     "text": [
      "1\n",
      "1\n",
      "['chaitu', 'chowdary', 'chandra', 'chaitanya']\n",
      "['chaitanya', 'chaitu', 'chandra', 'chowdary']\n",
      "chaitanya , chaitu , chandra , chowdary\n"
     ]
    }
   ],
   "source": [
    "# index . count . reverse , sort , join methods in list \n",
    "a = [\"chaitanya\",\"chandra\",\"chowdary\",\"chaitu\"]\n",
    "b = a.index(\"chandra\" , 0 , 3) # 0 start index and 3 end index\n",
    "print(b)\n",
    "c = a.count(\"chaitu\")\n",
    "print(c)\n",
    "a.reverse()\n",
    "print(a)\n",
    "d = a.sort()\n",
    "print(a)\n",
    "d = \" , \".join(a)\n",
    "print(d)"
   ]
  },
  {
   "cell_type": "code",
   "execution_count": 16,
   "metadata": {},
   "outputs": [
    {
     "name": "stdout",
     "output_type": "stream",
     "text": [
      "['chaitanya', 'chandra', 'chowdary', 'chaitu']\n",
      "['chaitu', 'chowdary', 'chandra', 'chaitanya']\n",
      "['chowdary', 'chaitu']\n",
      "['chowdary', 'chandra', 'chaitanya']\n",
      "['chaitanya']\n",
      "['chaitu', 'chowdary']\n"
     ]
    }
   ],
   "source": [
    "# slicing in lists \n",
    "a = [\"chaitanya\",\"chandra\",\"chowdary\",\"chaitu\"]\n",
    "b = a[0:4]\n",
    "c = a[::-1] # inclusive , exclusive , stage(increment or decrement) in slicing\n",
    "d = a[2::1]\n",
    "e = a[2::-1]\n",
    "f = a[:1:1]\n",
    "g = a[:1:-1]\n",
    "print(b)\n",
    "print(c)\n",
    "print(d)\n",
    "print(e)\n",
    "print(f)\n",
    "print(g)"
   ]
  },
  {
   "cell_type": "code",
   "execution_count": 17,
   "metadata": {},
   "outputs": [
    {
     "name": "stdout",
     "output_type": "stream",
     "text": [
      "['chowdary', 'chaitu']\n",
      "['chaitu', 'chowdary']\n"
     ]
    }
   ],
   "source": [
    "# swapping values in list data type\n",
    "a = [\"chaitanya\",\"chandra\",\"chowdary\",\"chaitu\"]\n",
    "a.remove(\"chandra\")\n",
    "a.remove(\"chaitanya\")\n",
    "print(a)\n",
    "a[0],a[1] = a[1],a[0]\n",
    "print(a)"
   ]
  },
  {
   "cell_type": "code",
   "execution_count": 18,
   "metadata": {},
   "outputs": [
    {
     "name": "stdout",
     "output_type": "stream",
     "text": [
      "[10, 20, 30, 40, 50, 60, 70, 80, 90, 100]\n",
      "---------------------------------------------------------\n",
      "[10, 20, 30, 40, 50, 60, 70, 80, 90, 100]\n"
     ]
    }
   ],
   "source": [
    "# list comprehension vs looping\n",
    "a = [x*10 for x in range(1,11)]\n",
    "print(a)\n",
    "\n",
    "print(\"---------------------------------------------------------\")\n",
    "\n",
    "b = range(1,11)\n",
    "list = []\n",
    "for x in b:\n",
    "    c =x*10\n",
    "    list.append(c)\n",
    "print(list)\n"
   ]
  },
  {
   "cell_type": "code",
   "execution_count": 19,
   "metadata": {},
   "outputs": [
    {
     "name": "stdout",
     "output_type": "stream",
     "text": [
      "['I', 'AM', 'CHAITANYA']\n",
      "[False, False, True, False]\n"
     ]
    }
   ],
   "source": [
    "# some list comprehension examples\n",
    "a =[name.upper() for name in ['i','am','chaitanya']]\n",
    "print(a)\n",
    "b =[bool(name) for name in ['',[],1,0]] #convert data type in list\n",
    "print(b)"
   ]
  },
  {
   "cell_type": "code",
   "execution_count": 20,
   "metadata": {},
   "outputs": [
    {
     "name": "stdout",
     "output_type": "stream",
     "text": [
      "[0, 2, 4, 6, 8, 10, 12, 14, 16, 18, 20, 22, 24, 26, 28, 30, 32, 34, 36, 38, 40, 42, 44, 46, 48, 50, 52, 54, 56, 58, 60, 62, 64, 66, 68, 70, 72, 74, 76, 78, 80, 82, 84, 86, 88, 90, 92, 94, 96, 98, 100]\n",
      "-----------------------------------------------------------------------------------------------------------------\n",
      "[1, 3, 5, 7, 9, 11, 13, 15, 17, 19, 21, 23, 25, 27, 29, 31, 33, 35, 37, 39, 41, 43, 45, 47, 49, 51, 53, 55, 57, 59, 61, 63, 65, 67, 69, 71, 73, 75, 77, 79, 81, 83, 85, 87, 89, 91, 93, 95, 97, 99]\n"
     ]
    }
   ],
   "source": [
    "# finding odds and evens using list comprehension \n",
    "a =range(0,101)\n",
    "c = [b for b in a if b  % 2 == 0] # finding even numbers using list comprehension(if condition)\n",
    "d = [e for e in a if e % 2 != 0] # finding odd numbers using list comprehension (if condition)\n",
    "print(c)\n",
    "print(\"-----------------------------------------------------------------------------------------------------------------\")\n",
    "print(d)"
   ]
  },
  {
   "cell_type": "code",
   "execution_count": 21,
   "metadata": {},
   "outputs": [
    {
     "name": "stdin",
     "output_type": "stream",
     "text": [
      "do you need anything\t: chaitanya\n"
     ]
    },
    {
     "name": "stdout",
     "output_type": "stream",
     "text": [
      "you need \t:['chaitanya']\n"
     ]
    },
    {
     "name": "stdin",
     "output_type": "stream",
     "text": [
      "do you need anything\t: chowdary\n"
     ]
    },
    {
     "name": "stdout",
     "output_type": "stream",
     "text": [
      "you need \t:['chaitanya', 'chowdary']\n"
     ]
    },
    {
     "name": "stdin",
     "output_type": "stream",
     "text": [
      "do you need anything\t: apple\n"
     ]
    },
    {
     "name": "stdout",
     "output_type": "stream",
     "text": [
      "you need \t:['chaitanya', 'chowdary', 'apple']\n"
     ]
    },
    {
     "name": "stdin",
     "output_type": "stream",
     "text": [
      "do you need anything\t: \n"
     ]
    },
    {
     "name": "stdout",
     "output_type": "stream",
     "text": [
      "got it boss you need \t:['chaitanya', 'chowdary', 'apple', '']\n",
      "your items is sorted by list  :['', 'apple', 'chaitanya', 'chowdary']\n"
     ]
    }
   ],
   "source": [
    "# input and output for list \n",
    "list =[] # list is used outside of loop so that it cannot loop and cannot  create duplicate empty list\n",
    "while True:\n",
    "    a = input(\"do you need anything\\t:\")\n",
    "    list.append(a)\n",
    "    if a:\n",
    "        print(f\"you need \\t:{list}\")\n",
    "        continue\n",
    "    else:\n",
    "        print(f\"got it boss you need \\t:{list}\")\n",
    "        break\n",
    "list.sort()\n",
    "print(f\"your items is sorted by list  :{list}\")"
   ]
  },
  {
   "cell_type": "code",
   "execution_count": 22,
   "metadata": {},
   "outputs": [
    {
     "name": "stdout",
     "output_type": "stream",
     "text": [
      "[[1, 2, 3], [1, 2, 3], [1, 2, 3]]\n",
      "[['c', 'h', 'c', 'h'], ['c', 'h', 'c', 'h'], ['c', 'h', 'c', 'h'], ['c', 'h', 'c', 'h']]\n"
     ]
    }
   ],
   "source": [
    "# nested list converhension\n",
    "a = [[ x for x in range(1,4)] for a in range(1,4)]\n",
    "print(a)\n",
    "b = [[\"c\" if num % 2 != 0 else \"h\" for num in range(1,5)] for num in range(1,5)] # if condition over list converhension \n",
    "print(b) "
   ]
  },
  {
   "cell_type": "code",
   "execution_count": 23,
   "metadata": {},
   "outputs": [
    {
     "name": "stdout",
     "output_type": "stream",
     "text": [
      "['*o:', '*o:', '*o:', '*o:', '*o:', '*o:', '*o:', '*o:', '*o:', '*o:']\n"
     ]
    }
   ],
   "source": [
    "# odd or even using list converhension \n",
    "a = [\"*e\" if n / 2 == 0  else \"*o:\" for n in range(1,11)]\n",
    "print(a)"
   ]
  },
  {
   "cell_type": "code",
   "execution_count": 24,
   "metadata": {},
   "outputs": [
    {
     "name": "stdout",
     "output_type": "stream",
     "text": [
      "this is key:1 and this is value:chaitu\n",
      "this is key:2 and this is value:chandra\n",
      "dict_values(['chaitu', 'chandra'])\n",
      "dict_keys([1, 2])\n",
      "dict_items([(1, 'chaitu'), (2, 'chandra')])\n"
     ]
    }
   ],
   "source": [
    "# iterable objects wit# iterable objects with dict\n",
    "a = {1:\"chaitu\",2:\"chandra\"}\n",
    "for key,value in a.items() :\n",
    "    print(f\"this is key:{key} and this is value:{value}\")\n",
    "print(a.values())\n",
    "print(a.keys())\n",
    "print(a.items())"
   ]
  },
  {
   "cell_type": "code",
   "execution_count": 25,
   "metadata": {},
   "outputs": [
    {
     "name": "stdout",
     "output_type": "stream",
     "text": [
      "this keys are correct\n",
      "this values are correct\n"
     ]
    }
   ],
   "source": [
    "# iterable objects with dict\n",
    "a = {1:\"chaitu\",2:\"chandra\"}\n",
    "if 1 and 2 in a :\n",
    "    print(\"this keys are correct\")\n",
    "if \"chaitu\" and \"chandra\" in a.values(): # only .values() are identifying in the dict \n",
    "    print(\"this values are correct\")"
   ]
  },
  {
   "cell_type": "code",
   "execution_count": 26,
   "metadata": {},
   "outputs": [
    {
     "name": "stdout",
     "output_type": "stream",
     "text": [
      "{1: 'nothing', 2: 'nothing', 3: 'nothing', 4: 'nothing'}\n",
      "{'chaitu': 'empty', 'chandrachowdary': 'empty', 'chaitanya': 'empty'}\n",
      "{'c': 'empty', 'h': 'empty', 'a': 'empty', 'i': 'empty', 't': 'empty', 'u': 'empty'}\n",
      "{'c': [1, 2, 3, 4, 5]}\n"
     ]
    }
   ],
   "source": [
    "# fromkeys method in dict\n",
    "a =  {}.fromkeys(range(1,5),\"nothing\")\n",
    "print(a)\n",
    "b = {}.fromkeys(['chaitu','chandra''chowdary','chaitanya'],\"empty\")\n",
    "print(b)\n",
    "c = {}.fromkeys('chaitu',\"empty\")\n",
    "print(c)\n",
    "d = {}.fromkeys('c',[1,2,3,4,5])\n",
    "print(d)"
   ]
  },
  {
   "cell_type": "code",
   "execution_count": 27,
   "metadata": {},
   "outputs": [
    {
     "name": "stdout",
     "output_type": "stream",
     "text": [
      "{'chaitu': 'empty', 'chandrachowdary': 'empty', 'chaitanya': 'empty'}\n",
      "{'chaitu': 'empty', 'chandrachowdary': 'empty', 'chaitanya': 'empty'}\n",
      "False\n",
      "True\n",
      "empty\n",
      "{}\n"
     ]
    }
   ],
   "source": [
    "# some methods in dict\n",
    "b = {}.fromkeys(['chaitu','chandra''chowdary','chaitanya'],\"empty\")\n",
    "print(b)\n",
    "a = b.copy() # copy the data\n",
    "print(a)\n",
    "print(a is b)    # compare memory\n",
    "print(a == b)    # compare values\n",
    "c = b.get('chaitu')\n",
    "print(c)\n",
    "b.clear() # clear the data\n",
    "print(b)"
   ]
  },
  {
   "cell_type": "code",
   "execution_count": 28,
   "metadata": {},
   "outputs": [
    {
     "name": "stdout",
     "output_type": "stream",
     "text": [
      "{'hostname': 'chaitu', 'name': 'chaitanya', 'age': 20}\n",
      "{'hostname': 'chaitu', 'name': 'chaitu chowdary', 'age': 20}\n",
      "{'hostname': 'chaitu', 'name': 'chaitu chowdary'}\n",
      "{'name': 'chaitu chowdary'}\n"
     ]
    }
   ],
   "source": [
    "# cont .. some methods in dict\n",
    "a = {'name':'chaitanya','age':20}\n",
    "b = {'hostname':'chaitu'}\n",
    "b.update(a)  # copy in update\n",
    "print(b)\n",
    "c = {'name':'chaitu chowdary'}\n",
    "b.update(c)  # overwrite in update\n",
    "print(b)\n",
    "b.popitem() # remove the random item\n",
    "print(b)\n",
    "b.pop('hostname') # remove based on keypair\n",
    "print(b)"
   ]
  },
  {
   "cell_type": "code",
   "execution_count": 29,
   "metadata": {},
   "outputs": [
    {
     "name": "stdout",
     "output_type": "stream",
     "text": [
      "{0: 'even', 1: 'odd', 2: 'even', 3: 'odd', 4: 'even', 5: 'odd', 6: 'even', 7: 'odd', 8: 'even', 9: 'odd', 10: 'even', 11: 'odd', 12: 'even', 13: 'odd', 14: 'even', 15: 'odd', 16: 'even', 17: 'odd', 18: 'even', 19: 'odd', 20: 'even', 21: 'odd', 22: 'even', 23: 'odd', 24: 'even', 25: 'odd', 26: 'even', 27: 'odd', 28: 'even', 29: 'odd', 30: 'even', 31: 'odd', 32: 'even', 33: 'odd', 34: 'even', 35: 'odd', 36: 'even', 37: 'odd', 38: 'even', 39: 'odd', 40: 'even', 41: 'odd', 42: 'even', 43: 'odd', 44: 'even', 45: 'odd', 46: 'even', 47: 'odd', 48: 'even', 49: 'odd', 50: 'even', 51: 'odd', 52: 'even', 53: 'odd', 54: 'even', 55: 'odd', 56: 'even', 57: 'odd', 58: 'even', 59: 'odd', 60: 'even', 61: 'odd', 62: 'even', 63: 'odd', 64: 'even', 65: 'odd', 66: 'even', 67: 'odd', 68: 'even', 69: 'odd', 70: 'even', 71: 'odd', 72: 'even', 73: 'odd', 74: 'even', 75: 'odd', 76: 'even', 77: 'odd', 78: 'even', 79: 'odd', 80: 'even', 81: 'odd', 82: 'even', 83: 'odd', 84: 'even', 85: 'odd', 86: 'even', 87: 'odd', 88: 'even', 89: 'odd', 90: 'even', 91: 'odd', 92: 'even', 93: 'odd', 94: 'even', 95: 'odd', 96: 'even', 97: 'odd', 98: 'even', 99: 'odd', 100: 'even'}\n"
     ]
    }
   ],
   "source": [
    "# dict comprehension for  odd numbers and even numbers with conditional logic\n",
    "a = {num: \"even\" if num % 2 == 0 else \"odd\" for num in range(0,101)}\n",
    "print(a)"
   ]
  },
  {
   "cell_type": "code",
   "execution_count": 30,
   "metadata": {},
   "outputs": [
    {
     "name": "stdout",
     "output_type": "stream",
     "text": [
      "primes:[2, 3, 5, 7, 11, 13, 17, 19, 23, 29, 31, 37, 41, 43, 47, 53, 59, 61, 67, 71, 73, 79, 83, 89, 97]\n"
     ]
    }
   ],
   "source": [
    "# printing primes and non primes with list converhension\n",
    "no_primes = [i for i in range(2,8) for i in range(i*2,101,i)] # primes srart from 2\n",
    "primes = [j for j in range(2,101) if j not in no_primes]\n",
    "print(f\"primes:{primes}\")\n",
    "\n",
    "# a = []\n",
    "# for i in range(2,8):\n",
    "#     for i in range(i*2,101,i):\n",
    "#         a.append(i)\n",
    "\n",
    "# b = []\n",
    "# for j in range(2,101):\n",
    "#    if j not in a :\n",
    "#        b.append(j)\n",
    "# print(b)"
   ]
  },
  {
   "cell_type": "code",
   "execution_count": 31,
   "metadata": {},
   "outputs": [
    {
     "name": "stdout",
     "output_type": "stream",
     "text": [
      "['THIS', 'this', 4]\n",
      "['IS', 'is', 2]\n",
      "['CHAITANYA', 'chaitanya', 9]\n",
      "['CHOWDARY', 'chowdary', 8]\n"
     ]
    }
   ],
   "source": [
    "# list converhensation with words\n",
    "a = 'this is chaitanya chowdary'\n",
    "c = a.split()\n",
    "b = [[w.upper(),w.lower(),len(w)] for w in c]\n",
    "for x in b :\n",
    "    print(x)"
   ]
  },
  {
   "cell_type": "code",
   "execution_count": 32,
   "metadata": {},
   "outputs": [
    {
     "name": "stdout",
     "output_type": "stream",
     "text": [
      "210\n",
      "-----------------------------------------------------------------------\n",
      "210\n"
     ]
    }
   ],
   "source": [
    "# adding values with for loop and while loop \n",
    "x = (10,20,30,40,50,60)\n",
    "a = 0\n",
    "for y in x:\n",
    "    a = a+y\n",
    "print(a)\n",
    "\n",
    "print(\"-----------------------------------------------------------------------\")\n",
    "\n",
    "b = 0\n",
    "sum =0\n",
    "i=0\n",
    "while b < len(x):\n",
    "    sum += x[i]\n",
    "    i += 1 # for increment in index of slicing \n",
    "    b += 1 # used as duplicate for looping \n",
    "print(sum)"
   ]
  },
  {
   "cell_type": "code",
   "execution_count": 33,
   "metadata": {},
   "outputs": [
    {
     "name": "stdout",
     "output_type": "stream",
     "text": [
      "this is key\t:a \tand\t this is value\t:chaitanya\n",
      "this is key\t:b \tand\t this is value\t:chaitu\n",
      "this is key\t:c \tand\t this is value\t:chowdary\n"
     ]
    }
   ],
   "source": [
    "# printing a key value pair from dict \n",
    "a = {'a':'chaitanya','b':'chaitu','c':'chowdary'}\n",
    "kv = a.items()\n",
    "s = 0\n",
    "for j,k in kv:\n",
    "    print(f'this is key\\t:{j} \\tand\\t this is value\\t:{k}')"
   ]
  },
  {
   "cell_type": "code",
   "execution_count": 34,
   "metadata": {},
   "outputs": [
    {
     "name": "stdout",
     "output_type": "stream",
     "text": [
      "😀😀😀😀😀😀😀😀😀😀😀😀😀😀😀😀😀😀😀😀😀😀😀😀😀😀😀😀😀😀😀😀😀😀😀😀😀😀😀😀😀😀😀\n",
      "😆😆😆😆😆😆😆😆😆😆😆😆😆😆😆😆😆😆😆😆😆😆😆😆😆😆😆😆😆😆😆😆😆😆😆😆😆😆😆😆😆😆😆\n",
      "🤣🤣🤣🤣🤣🤣🤣🤣🤣🤣🤣🤣🤣🤣🤣🤣🤣🤣🤣🤣🤣🤣🤣🤣🤣🤣🤣🤣🤣🤣🤣🤣🤣🤣🤣🤣🤣🤣🤣🤣🤣🤣🤣\n",
      "😀😀😀😀😀😀😀😀😀😀😀😀😀😀😀😀😀😀😀😀😀😀😀😀😀😀😀😀😀😀😀😀😀😀😀😀😀😀😀😀😀😀😀\n",
      "😆😆😆😆😆😆😆😆😆😆😆😆😆😆😆😆😆😆😆😆😆😆😆😆😆😆😆😆😆😆😆😆😆😆😆😆😆😆😆😆😆😆😆\n",
      "🤣🤣🤣🤣🤣🤣🤣🤣🤣🤣🤣🤣🤣🤣🤣🤣🤣🤣🤣🤣🤣🤣🤣🤣🤣🤣🤣🤣🤣🤣🤣🤣🤣🤣🤣🤣🤣🤣🤣🤣🤣🤣🤣\n"
     ]
    }
   ],
   "source": [
    "print('\\U0001f600'*43)\n",
    "print('\\U0001f606'*43)\n",
    "print('\\U0001f923'*43)\n",
    "print('\\U0001f600'*43)\n",
    "print('\\U0001f606'*43)\n",
    "print('\\U0001f923'*43)"
   ]
  },
  {
   "cell_type": "code",
   "execution_count": 35,
   "metadata": {},
   "outputs": [
    {
     "name": "stdout",
     "output_type": "stream",
     "text": [
      "201\n",
      " this is addition of chaitanya \n"
     ]
    }
   ],
   "source": [
    "#printing with default perameters ,global perameters , doc functions \n",
    "a = 40\n",
    "b = 40\n",
    "def addition(a =50,b=50):\n",
    "    \"\"\" this is addition of chaitanya \"\"\"\n",
    "    return a+b\n",
    "    globals()\n",
    "    a =10\n",
    "    print(a)\n",
    "print(addition(b=100,a=101))\n",
    "addition() \n",
    "print(addition.__doc__)"
   ]
  },
  {
   "cell_type": "code",
   "execution_count": 36,
   "metadata": {},
   "outputs": [
    {
     "name": "stdout",
     "output_type": "stream",
     "text": [
      "45\n",
      "ok you are right to go\n"
     ]
    }
   ],
   "source": [
    "# tuple  in functions using *args\n",
    "def addition(*add):\n",
    "    total = 0\n",
    "    for num in add:\n",
    "        total += num\n",
    "    return total\n",
    "print((addition(1,2,3,4,5,6,7,8,9,0)))\n",
    "def find(*a):\n",
    "    if \"chaitu\" and \"chaitanya\" in a:\n",
    "        return 'ok you are right to go'\n",
    "    return 'you dont have any acess'\n",
    "\n",
    "print(find('chaitanya','chandra','chaitu',))"
   ]
  },
  {
   "cell_type": "code",
   "execution_count": 37,
   "metadata": {},
   "outputs": [
    {
     "name": "stdout",
     "output_type": "stream",
     "text": [
      "your id number is :one and your name is :chandra \n",
      "--------------------------------------------------------------------------------------------------------------\n",
      "your name is :chandra and your id is :two does not have any access\n",
      "your neme is :chaitanya and your id is :one, you have access\n"
     ]
    }
   ],
   "source": [
    "# dict in functions using **kwargs\n",
    "def work(**name):\n",
    "    for k,v in name.items():\n",
    "        return f'your id number is :{k} and your name is :{v} '\n",
    "print(work(one='chandra',))\n",
    "\n",
    "print('--------------------------------------------------------------------------------------------------------------')\n",
    "\n",
    "def a(**kwargs):\n",
    "    for k,v in kwargs.items():\n",
    "        if k == 'one' and kwargs['one'] == 'chaitanya':\n",
    "            return f'your neme is :{v} and your id is :{k}, you have access'\n",
    "        else:\n",
    "            print(f'your name is :{v} and your id is :{k} does not have any access')\n",
    "print(a(two='chandra',one='chaitanya',))"
   ]
  },
  {
   "cell_type": "code",
   "execution_count": 38,
   "metadata": {},
   "outputs": [
    {
     "name": "stdout",
     "output_type": "stream",
     "text": [
      "12\n"
     ]
    }
   ],
   "source": [
    "# unpacking tuple (*args) in functions\n",
    "def addition(*args):\n",
    "    total = 0\n",
    "    for a in args:\n",
    "        total += a\n",
    "    return total\n",
    "b = [1,2,3]\n",
    "c = (1,2,3)\n",
    "print(addition(*b,*c))  # * indicates pass all this elements in seperate arguments"
   ]
  },
  {
   "cell_type": "code",
   "execution_count": 39,
   "metadata": {},
   "outputs": [
    {
     "name": "stdout",
     "output_type": "stream",
     "text": [
      "6\n",
      "------------------------------------------------------------------------\n",
      "{'one': 'chaitu', 'two': 'chowdary'}\n",
      "6\n"
     ]
    }
   ],
   "source": [
    "# unpacking dict (*kwargs) and tuple (*args )in functions\n",
    "def addition(a,b,c):\n",
    "    total = 0\n",
    "    for a in a,b,c:\n",
    "        total += a\n",
    "    return total\n",
    "b = [1,2,3]\n",
    "c = (1,2,3)\n",
    "print(addition(*b))\n",
    "\n",
    "print('------------------------------------------------------------------------')\n",
    "\n",
    "def add(d,e,f, **kwargs):\n",
    "    print(kwargs) # dont use ** below\n",
    "    return d*e*f\n",
    "print(add(1,2,3,one='chaitu',two='chowdary'))\n",
    "# usage pattern in functions\n",
    "# parameters\n",
    "# *args\n",
    "# default perameters\n",
    "# **kwargs"
   ]
  },
  {
   "cell_type": "code",
   "execution_count": 40,
   "metadata": {},
   "outputs": [
    {
     "name": "stdout",
     "output_type": "stream",
     "text": [
      "[2, 4, 6, 8, 10, 12, 14, 16, 18, 20]\n",
      "-------------------------------------------------------------------------\n",
      "[2, 4, 6, 8, 10]\n"
     ]
    }
   ],
   "source": [
    "# lambda functions with map and filter\n",
    "a = (1,2,3,4,5,6,7,8,9,10)\n",
    "b = list(map(lambda x:x*2,a))\n",
    "print(b)\n",
    "print('-------------------------------------------------------------------------')\n",
    "c = list(filter(lambda x: x %2 == 0 , a ))\n",
    "print(c)"
   ]
  },
  {
   "cell_type": "code",
   "execution_count": 41,
   "metadata": {},
   "outputs": [
    {
     "name": "stdout",
     "output_type": "stream",
     "text": [
      "[{'username': 'suguna', 'tweets': []}, {'username': 'somanaidu', 'tweets': []}, {'username': 'chandra', 'tweets': []}]\n",
      "-----------------------------------------------------------------------------------------------------------------\n",
      "[{'username': 'suguna', 'tweets': []}, {'username': 'somanaidu', 'tweets': []}, {'username': 'chandra', 'tweets': []}]\n",
      "-----------------------------------------------------------------------------------------------------------------\n",
      "['CHAITANYA', 'PRASAD', 'CHOWDARY']\n"
     ]
    }
   ],
   "source": [
    "# lambda functions in combination of map and filter\n",
    "users = [\n",
    "    {\"username\": \"chaitanya\", \"tweets\": [\"I love cake\", \"I love pie\", \"hello world!\"]},\n",
    "    {\"username\": \"prasad\", \"tweets\": [\"I love my cat\"]},\n",
    "    {\"username\": \"suguna\", \"tweets\": []},\n",
    "    {\"username\": \"somanaidu\", \"tweets\": []},\n",
    "    {\"username\": \"chowdary\", \"tweets\": [\"dogs are the best\", \"I'm hungry\"]},\n",
    "    {\"username\": \"chandra\", \"tweets\": []}]\n",
    "a = list(filter(lambda x:len(x[\"tweets\"]) == 0,users))\n",
    "b = [n for n in users  if len(n['tweets'])==0]\n",
    "c= list(map(lambda user:user['username'].upper()\n",
    "       ,filter(lambda inactive: len(inactive['tweets']) !=0\n",
    "       ,users)))\n",
    "print(a)\n",
    "print('-----------------------------------------------------------------------------------------------------------------')\n",
    "print(b)\n",
    "print('-----------------------------------------------------------------------------------------------------------------')\n",
    "print(c)"
   ]
  },
  {
   "cell_type": "code",
   "execution_count": 42,
   "metadata": {},
   "outputs": [
    {
     "name": "stdout",
     "output_type": "stream",
     "text": [
      "True\n",
      "False\n",
      "True\n",
      "True\n"
     ]
    }
   ],
   "source": [
    "# some in build functions \n",
    "a =[10,20,40,50,60,]\n",
    "c = [1,2,3,4,5,6,7,8]\n",
    "x = all(b % 2 ==0 for b in a) # all of them should be true like and\n",
    "y = all(d % 2 ==0 for d in c)\n",
    "print(x)\n",
    "print(y)\n",
    "z = any(e %2 ==0 for e in a)\n",
    "print(z)\n",
    "j = any(f % 2 ==0 for f in c)\n",
    "print(j) # any of them true will be true like or"
   ]
  },
  {
   "cell_type": "code",
   "execution_count": 43,
   "metadata": {},
   "outputs": [
    {
     "name": "stdout",
     "output_type": "stream",
     "text": [
      "[1, 1, 1, 2, 3, 4, 5, 5, 7, 8]\n",
      "[8, 7, 5, 5, 4, 3, 2, 1, 1, 1]\n",
      "[1, 2, 3, 5, 6, 7, 8, 9, 34]\n",
      "[34, 9, 8, 7, 6, 5, 3, 2, 1]\n",
      "[{'username': 'chaitanya', 'tweets': ['I love cake', 'I love pie', 'hello world!']}, {'username': 'chandra', 'tweets': []}, {'username': 'chowdary', 'tweets': ['dogs are the best', \"I'm hungry\"]}, {'username': 'prasad', 'tweets': ['I love my cat']}, {'username': 'somanaidu', 'tweets': []}, {'username': 'suguna', 'tweets': []}]\n",
      "-------------------------------------------------------------------------\n",
      "[{'username': 'suguna', 'tweets': []}, {'username': 'somanaidu', 'tweets': []}, {'username': 'prasad', 'tweets': ['I love my cat']}, {'username': 'chowdary', 'tweets': ['dogs are the best', \"I'm hungry\"]}, {'username': 'chandra', 'tweets': []}, {'username': 'chaitanya', 'tweets': ['I love cake', 'I love pie', 'hello world!']}]\n"
     ]
    }
   ],
   "source": [
    "# sorted function with lambda \n",
    "a = [1,4,5,2,1,7,3,1,5,8]\n",
    "b = (1,3,5,7,9,2,34,6,8,)\n",
    "print(sorted(a))\n",
    "print(sorted(a,reverse=True))\n",
    "print(sorted(b))\n",
    "print(sorted(b,reverse=True))\n",
    "users = [\n",
    "    {\"username\": \"chaitanya\", \"tweets\": [\"I love cake\", \"I love pie\", \"hello world!\"]},\n",
    "    {\"username\": \"prasad\", \"tweets\": [\"I love my cat\"]},\n",
    "    {\"username\": \"suguna\", \"tweets\": []},\n",
    "    {\"username\": \"somanaidu\", \"tweets\": []},\n",
    "    {\"username\": \"chowdary\", \"tweets\": [\"dogs are the best\", \"I'm hungry\"]},\n",
    "    {\"username\": \"chandra\", \"tweets\": []}]\n",
    "print(sorted(users,key=lambda user: user['username'],reverse=False))\n",
    "print('-------------------------------------------------------------------------')\n",
    "print(sorted(users,key=lambda user: user['username'],reverse=True))"
   ]
  },
  {
   "cell_type": "code",
   "execution_count": 44,
   "metadata": {},
   "outputs": [
    {
     "name": "stdout",
     "output_type": "stream",
     "text": [
      "hello\n",
      "('h', 'e', 'l', 'l', 'o')\n",
      "['h', 'e', 'l', 'l', 'o']\n",
      "9\n",
      "8\n",
      "7\n",
      "6\n",
      "5\n",
      "4\n",
      "3\n",
      "2\n",
      "1\n"
     ]
    }
   ],
   "source": [
    "# reversed function\n",
    "print(''.join(reversed('olleh')))\n",
    "print(tuple(reversed('olleh')))\n",
    "print(list(reversed('olleh'))) # reversed() work with iterable data types\n",
    "for a in reversed(range(1,10)):\n",
    "    print(a)"
   ]
  },
  {
   "cell_type": "code",
   "execution_count": 45,
   "metadata": {},
   "outputs": [
    {
     "name": "stdout",
     "output_type": "stream",
     "text": [
      "200\n",
      "40\n",
      "-140\n",
      "140\n",
      "91\n",
      "90.5035382949\n"
     ]
    }
   ],
   "source": [
    "# round , sum , abs functions\n",
    "a = -200\n",
    "b = 40\n",
    "c = [10,20,30]\n",
    "d = 90.50353829485146461436513251354658123035125\n",
    "print(abs(a)) # abs will give always positive numbers\n",
    "print(abs(b))\n",
    "print(sum(c,a))\n",
    "print(abs(sum(c,a)))\n",
    "print(round(d)) # round up the floating point value\n",
    "print(round(d,10))"
   ]
  },
  {
   "cell_type": "code",
   "execution_count": 46,
   "metadata": {},
   "outputs": [
    {
     "name": "stdout",
     "output_type": "stream",
     "text": [
      "{'chandra': 42, 'chaitanya': 118, 'chowdary': 78}\n",
      "[80, 118, 84]\n",
      "{'chandra': 80, 'chaitanya': 118, 'chowdary': 84}\n",
      "[('chandra', 80), ('chaitanya', 118), ('chowdary', 84)]\n"
     ]
    }
   ],
   "source": [
    "# zip function\n",
    "a = ('chandra','chaitanya','chowdary')\n",
    "b = [80,50,84]\n",
    "c = [42,118,78]\n",
    "z = zip(a,c) # inside zip it is tuple\n",
    "print(dict(z))\n",
    "d = [max(num) for num in zip(c,b)]\n",
    "print(d)\n",
    "e = {t[0]:max(t[1],t[2]) for t in zip(a,b,c)} # as zip is tuple\n",
    "print(e)\n",
    "# print(list(zip(a,max(zip(c,b))))) wrong way one output is missing\n",
    "f = zip(\n",
    "    a\n",
    "    ,map(                      # using map function\n",
    "        lambda g: max(g)\n",
    "        ,zip(c,b)\n",
    "        )\n",
    ")\n",
    "print(list(f))"
   ]
  },
  {
   "cell_type": "code",
   "execution_count": 47,
   "metadata": {},
   "outputs": [
    {
     "name": "stdout",
     "output_type": "stream",
     "text": [
      "file system is needed in order to rum this code\n"
     ]
    }
   ],
   "source": [
    "# # custom modules\n",
    "# save this file as family.py and import the module \n",
    "# def mother():\n",
    "#      return 'this is suguna your mother'\n",
    "# def father():\n",
    "#      return 'this is somanaidu your father'\n",
    "# def brother():#\n",
    "#     return 'this is prasad your brother'\n",
    "# def myself():\n",
    "#      return 'this is chaitanya chowdary'\n",
    " \n",
    " \n",
    " \n",
    "# import family as fm # as will convert to defined variable\n",
    "# print(fm.father())\n",
    "# from family import mother as m , father as f # from is used to get the specified method\n",
    "# print(m() ,' and ', f())\n",
    "# from family import * # * import all methods in the module\n",
    "# print(brother(),' and ',myself())\n",
    "print('file system is needed in order to rum this code')"
   ]
  },
  {
   "cell_type": "code",
   "execution_count": 48,
   "metadata": {},
   "outputs": [
    {
     "name": "stdout",
     "output_type": "stream",
     "text": [
      "what do you want to print\t:C H A I T U\n",
      "what color do you need\t:\n",
      "cyan , green , grey , magenta \t:magenta\n",
      "\u001b[35m  ____   _   _      _      ___   _____   _   _ \n",
      " / ___| | | | |    / \\    |_ _| |_   _| | | | |\n",
      "| |     | |_| |   / _ \\    | |    | |   | | | |\n",
      "| |___  |  _  |  / ___ \\   | |    | |   | |_| |\n",
      " \\____| |_| |_| /_/   \\_\\ |___|   |_|    \\___/ \n",
      "                                               \n",
      "\u001b[0m\n"
     ]
    }
   ],
   "source": [
    "# external modules from python termcolor and pyfiglet\n",
    "import pyfiglet\n",
    "from termcolor import colored\n",
    "a = input('what do you want to print\\t:')\n",
    "b = input('what color do you need\\t:\\ncyan , green , grey , magenta \\t:')\n",
    "output = pyfiglet.figlet_format(a)\n",
    "if b:\n",
    "    if b == 'cyan' or 'cyan ':\n",
    "         colored_output = colored(output,b)\n",
    "         print(colored_output)\n",
    "    elif b == 'green' or 'green ':\n",
    "         colored_output = colored(output,b)\n",
    "         print(colored_output)\n",
    "    elif b == 'grey' or 'grey ':\n",
    "         colored_output = colored(output,b)\n",
    "         print(colored_output)\n",
    "    elif b == 'magenta'or 'magenta ':\n",
    "         colored_output = colored(output,b)\n",
    "         print(colored_output)\n",
    "    elif b == 'green'or 'green ':\n",
    "         colored_output = colored(output,b)\n",
    "         print(colored_output)\n",
    "    else:\n",
    "         print('your color is invalid !')\n",
    "else:\n",
    "     print('please type the valid color')"
   ]
  },
  {
   "cell_type": "code",
   "execution_count": 49,
   "metadata": {},
   "outputs": [
    {
     "name": "stdout",
     "output_type": "stream",
     "text": [
      "what do you want to print\t:C H A I T U\n",
      "what color do you need\t:\n",
      "cyan , green , grey , magenta , red , blue\t:red\n",
      "\u001b[31m  ____   _   _      _      ___   _____   _   _ \n",
      " / ___| | | | |    / \\    |_ _| |_   _| | | | |\n",
      "| |     | |_| |   / _ \\    | |    | |   | | | |\n",
      "| |___  |  _  |  / ___ \\   | |    | |   | |_| |\n",
      " \\____| |_| |_| /_/   \\_\\ |___|   |_|    \\___/ \n",
      "                                               \n",
      "\u001b[0m\n"
     ]
    }
   ],
   "source": [
    "# external modules from python termcolor and pyfiglet with default colors\n",
    "import pyfiglet\n",
    "from termcolor import colored\n",
    "a = input('what do you want to print\\t:')\n",
    "b = input('what color do you need\\t:\\ncyan , green , grey , magenta , red , blue\\t:')\n",
    "valid_colors = ('red','green','blue','cyan','green','magenta','grey')\n",
    "if b not in valid_colors:\n",
    "    b = 'red'\n",
    "    print('\\n\\t\\t\\t\\t\\t\\t\"default color is red!\"\\n\\n')\n",
    "output = pyfiglet.figlet_format(a)\n",
    "colored_output = colored(output,b)\n",
    "print(colored_output)"
   ]
  },
  {
   "cell_type": "code",
   "execution_count": 50,
   "metadata": {},
   "outputs": [
    {
     "name": "stdout",
     "output_type": "stream",
     "text": [
      "file system is needed in order to rum this code\n"
     ]
    }
   ],
   "source": [
    "# autopep8 id for indentation \n",
    "#autopep8 --in-place -a -a test.py     a for agressive \n",
    "print('file system is needed in order to rum this code')"
   ]
  },
  {
   "cell_type": "code",
   "execution_count": 51,
   "metadata": {},
   "outputs": [
    {
     "name": "stdout",
     "output_type": "stream",
     "text": [
      "file system is needed in order to rum this code\n"
     ]
    }
   ],
   "source": [
    "# # name variable - every module has a own  name variable \n",
    "\n",
    "# # first file items\n",
    "# #  name of __name__ is __main__  with in the file\n",
    "# # when it come to the outside of  file , the name of __name__  is the 'file name' __apple__\n",
    "# def apple():\n",
    "#     print(f'this is __name__ and present in  {__name__}')\n",
    "# if __name__ == '__main__':\n",
    "#         apple()\n",
    "# # second file\n",
    "# from items import apple\n",
    "# def bat():\n",
    "#     print(f'this is __name__ and in {__name__}')\n",
    "# bat()\n",
    "# apple()\n",
    "\n",
    "# # output of before if condition in items\n",
    "\n",
    "# # this is __name__ and present in  items\n",
    "# # this is __name__ and in __main__\n",
    "# # this is __name__ and present in  items\n",
    "\n",
    "# # output of after if condition in items\n",
    "\n",
    "# # this is __name__ and in __main__\n",
    "# # this is __name__ and present in  items\n",
    "print('file system is needed in order to rum this code')"
   ]
  },
  {
   "cell_type": "code",
   "execution_count": 52,
   "metadata": {},
   "outputs": [
    {
     "name": "stdout",
     "output_type": "stream",
     "text": [
      "what color do you need\t:\n",
      "cyan , green , grey , magenta , red , blue\t:green\n",
      "----------------------------------------------------------------\n",
      "\n",
      "\n",
      "\u001b[32mDid you hear the joke about the wandering nun? She was a roman catholic.\u001b[0m\n",
      "\n",
      "\u001b[32m ____  _     _                       _                       _   _          \n",
      "|  _ \\(_) __| |  _   _  ___  _   _  | |__   ___  __ _ _ __  | |_| |__   ___ \n",
      "| | | | |/ _` | | | | |/ _ \\| | | | | '_ \\ / _ \\/ _` | '__| | __| '_ \\ / _ \\\n",
      "| |_| | | (_| | | |_| | (_) | |_| | | | | |  __/ (_| | |    | |_| | | |  __/\n",
      "|____/|_|\\__,_|  \\__, |\\___/ \\__,_| |_| |_|\\___|\\__,_|_|     \\__|_| |_|\\___|\n",
      "                 |___/                                                      \n",
      "   _       _                _                 _     _   _          \n",
      "  (_) ___ | | _____    __ _| |__   ___  _   _| |_  | |_| |__   ___ \n",
      "  | |/ _ \\| |/ / _ \\  / _` | '_ \\ / _ \\| | | | __| | __| '_ \\ / _ \\\n",
      "  | | (_) |   <  __/ | (_| | |_) | (_) | |_| | |_  | |_| | | |  __/\n",
      " _/ |\\___/|_|\\_\\___|  \\__,_|_.__/ \\___/ \\__,_|\\__|  \\__|_| |_|\\___|\n",
      "|__/                                                               \n",
      "                         _           _                                ___ \n",
      "__      ____ _ _ __   __| | ___ _ __(_)_ __   __ _   _ __  _   _ _ __|__ \\\n",
      "\\ \\ /\\ / / _` | '_ \\ / _` |/ _ \\ '__| | '_ \\ / _` | | '_ \\| | | | '_ \\ / /\n",
      " \\ V  V / (_| | | | | (_| |  __/ |  | | | | | (_| | | | | | |_| | | | |_| \n",
      "  \\_/\\_/ \\__,_|_| |_|\\__,_|\\___|_|  |_|_| |_|\\__, | |_| |_|\\__,_|_| |_(_) \n",
      "                                             |___/                        \n",
      " ____  _                                      \n",
      "/ ___|| |__   ___  __      ____ _ ___    __ _ \n",
      "\\___ \\| '_ \\ / _ \\ \\ \\ /\\ / / _` / __|  / _` |\n",
      " ___) | | | |  __/  \\ V  V / (_| \\__ \\ | (_| |\n",
      "|____/|_| |_|\\___|   \\_/\\_/ \\__,_|___/  \\__,_|\n",
      "                                              \n",
      "                                             _   _           _ _        \n",
      " _ __ ___  _ __ ___   __ _ _ __     ___ __ _| |_| |__   ___ | (_) ___   \n",
      "| '__/ _ \\| '_ ` _ \\ / _` | '_ \\   / __/ _` | __| '_ \\ / _ \\| | |/ __|  \n",
      "| | | (_) | | | | | | (_| | | | | | (_| (_| | |_| | | | (_) | | | (__ _ \n",
      "|_|  \\___/|_| |_| |_|\\__,_|_| |_|  \\___\\__,_|\\__|_| |_|\\___/|_|_|\\___(_)\n",
      "                                                                        \n",
      "\u001b[0m\n",
      "\n",
      "json format:{'id': 'lGe2Tvskyd', 'joke': 'Why are fish so smart? Because they live in schools!', 'status': 200}\n",
      "<class 'dict'>\n",
      "\n",
      "sting text:Did you hear the joke about the wandering nun? She was a roman catholic.\n",
      "<class 'str'>\n"
     ]
    }
   ],
   "source": [
    "# using requests and get data from http and color using termcolor and pyfiglet\n",
    "from requests import get as pull\n",
    "from termcolor import colored as colour\n",
    "import pyfiglet\n",
    "url = 'https://icanhazdadjoke.com'\n",
    "input_a = input(\n",
    "    'what color do you need\\t:\\ncyan , green , grey , magenta , red , blue\\t:')\n",
    "valid_colors = ('red', 'green', 'blue', 'cyan', 'green', 'magenta', 'grey')\n",
    "if input_a not in valid_colors:\n",
    "    input_a = \"red\"\n",
    "pulling_text = pull(url, headers={\"Accept\": \"text/plain\"})\n",
    "pulling_json = pull(url, headers={\"Accept\": \"application/json\"})\n",
    "print('----------------------------------------------------------------')\n",
    "plain_text = colour(pulling_text.text, input_a)\n",
    "using_pyfreglet = pyfiglet.figlet_format(pulling_text.text)\n",
    "coloring_pyfreflet = colour(using_pyfreglet, input_a)\n",
    "print(f'\\n\\n{plain_text}\\n\\n{coloring_pyfreflet}\\n\\njson format:{pulling_json.json()}\\n{type(pulling_json.json())}\\n\\nsting text:{pulling_text.text}\\n{type(pulling_text.text)}')\n"
   ]
  },
  {
   "cell_type": "code",
   "execution_count": 53,
   "metadata": {},
   "outputs": [
    {
     "name": "stdout",
     "output_type": "stream",
     "text": [
      "\u001b[31m                   _                                                _     \n",
      "__      __   ___  | |   ___    ___    _ __ ___     ___        ___  | |__  \n",
      "\\ \\ /\\ / /  / _ \\ | |  / __|  / _ \\  | '_ ` _ \\   / _ \\      / __| | '_ \\ \n",
      " \\ V  V /  |  __/ | | | (__  | (_) | | | | | | | |  __/     | (__  | | | |\n",
      "  \\_/\\_/    \\___| |_|  \\___|  \\___/  |_| |_| |_|  \\___|      \\___| |_| |_|\n",
      "                                                                          \n",
      "         _   _           \n",
      "  __ _  (_) | |_   _   _ \n",
      " / _` | | | | __| | | | |\n",
      "| (_| | | | | |_  | |_| |\n",
      " \\__,_| |_|  \\__|  \\__,_|\n",
      "                         \n",
      "\u001b[0m\n",
      "what do you want to search for \t:good\n",
      "what color do you need\t:\n",
      "cyan , green , grey , magenta , red , blue\t:green\n",
      "\n",
      "\n",
      "we foud bunch of jokes in your search \t:good . i have chosen in random  form that \n",
      " \u001b[32mWhy do you never see elephants hiding in trees? Because they're so good at it.\u001b[0m\n",
      "\n",
      "total results\t:4\n",
      "total pages\t:1\n",
      "\n",
      "print of all output of request \t:{'current_page': 1, 'limit': 20, 'next_page': 1, 'previous_page': 1, 'results': [{'id': 'vPuzAd299pb', 'joke': 'How come a man driving a train got struck by lightning? He was a good conductor.'}, {'id': 'EIJmGY8Etrc', 'joke': \"Doctor: Do you want to hear the good news or the bad news?\\r\\nPatient: Good news please.\\r\\nDoctor: we're naming a disease after you.\"}, {'id': 't4MJRuXDIe', 'joke': \"Why do you never see elephants hiding in trees? Because they're so good at it.\"}, {'id': 'EtzscNuk3Ed', 'joke': \"Why don't you find hippopotamuses hiding in trees?\\r\\nThey're really good at it.\"}], 'search_term': 'good', 'status': 200, 'total_jokes': 4, 'total_pages': 1}\n"
     ]
    }
   ],
   "source": [
    "# getting a search req from web based on user input \n",
    "import requests\n",
    "from termcolor import colored\n",
    "from random import choice\n",
    "from pyfiglet import figlet_format\n",
    "welcome = colored(figlet_format('w e l c o m e     c h a i t u'),color='red')\n",
    "print(welcome)\n",
    "url = 'https://icanhazdadjoke.com/search'\n",
    "input_a = input('what do you want to search for \\t:')\n",
    "input_b = input(\n",
    "    'what color do you need\\t:\\ncyan , green , grey , magenta , red , blue\\t:')\n",
    "valid_colors = ('red', 'green', 'blue', 'cyan', 'green', 'magenta', 'grey')\n",
    "if input_b not in valid_colors:\n",
    "    print(f'\\n\\ninvalid color!\\t:{input_b} \\ndefault color is \"red\"\\n\\n')\n",
    "    input_b = \"red\"\n",
    "req = requests.get(url\n",
    "                   ,headers={'Accept': 'application/json'}\n",
    "                   ,params={'term':input_a}\n",
    ").json()\n",
    "total_jokes = req['total_jokes']\n",
    "result = req['results']\n",
    "if total_jokes >=1 :\n",
    "    output = choice(result)['joke']\n",
    "    colored_output =  colored(output,input_b)\n",
    "    print(f'\\n\\nwe foud bunch of jokes in your search \\t:{input_a} . i have chosen in random  form that \\n {colored_output}')\n",
    "    print(f'\\ntotal results\\t:{req[\"total_jokes\"]}\\ntotal pages\\t:{req[\"total_pages\"]}')\n",
    "    print(f'\\nprint of all output of request \\t:{req}')\n",
    "else:\n",
    "    print(f'invalid text! :{input_a}')"
   ]
  },
  {
   "cell_type": "code",
   "execution_count": 54,
   "metadata": {},
   "outputs": [
    {
     "name": "stdin",
     "output_type": "stream",
     "text": [
      "what is your name\t: chaitanya\n",
      "what is your age\t: 20\n"
     ]
    },
    {
     "name": "stdout",
     "output_type": "stream",
     "text": [
      "chaitanya 20\n",
      "apple\n",
      "dog\n"
     ]
    }
   ],
   "source": [
    "# object oreanted programming\n",
    "a = input('what is your name\\t:')\n",
    "b = input('what is your age\\t:')\n",
    "class user:\n",
    "    def __init__(self,name,age): # init call the function by default\n",
    "        self.name = name\n",
    "        self.age = age\n",
    "\n",
    "user1 = user(a,b,)\n",
    "print(user1.name,user1.age)\n",
    "\n",
    "\n",
    "class details:\n",
    "    def __init__(self): # init is a default dunder method \n",
    "        self._fruit ='apple' # _ is respecting conventions intended for internal use only \n",
    "        self.__pet ='dog' # __ not putely conventional \n",
    "u = details()\n",
    "print(u._fruit)\n",
    "print(u._details__pet)"
   ]
  },
  {
   "cell_type": "code",
   "execution_count": 55,
   "metadata": {},
   "outputs": [
    {
     "name": "stdout",
     "output_type": "stream",
     "text": [
      "chaitanya chowdary\n",
      "you got 20 likes\n",
      "chaitanya ,you got 20 likes\tAppricate it!\n"
     ]
    }
   ],
   "source": [
    "# all functions(instance methods) in objects are known as attribute\n",
    "class user:\n",
    "    def __init__(self,first_name,last_name): # value variables which is used to call with in the function\n",
    "        self.a = first_name # self.first is a key variable which is used to call in print\n",
    "        self.b = last_name\n",
    "    def likes(self,things): # using methods in the attributes \n",
    "        self.c = things\n",
    "        return f'you got {self.c} likes'\n",
    "    def oppose(self):\n",
    "        if self.c >5:\n",
    "            return f'{self.a} ,you got {self.c} likes\\tAppricate it!'\n",
    "user1 = user('chaitanya','chowdary') # all arguments should be passed\n",
    "print(user1.a,user1.b)\n",
    "print(user1.likes(20))\n",
    "print(user1.oppose()) # calling a method in the function "
   ]
  },
  {
   "cell_type": "code",
   "execution_count": 56,
   "metadata": {},
   "outputs": [
    {
     "name": "stdout",
     "output_type": "stream",
     "text": [
      "0\n",
      "2\n",
      "chaitanya just logged out!\n",
      "1\n"
     ]
    }
   ],
   "source": [
    "# class attributes (class is an object)\n",
    "class user:\n",
    "    active_users = 0 # class attributes\n",
    "    def __init__(self,first_name,last_name): # indivudial instances\n",
    "        self.a = first_name\n",
    "        self.b = last_name\n",
    "        user.active_users += 1\n",
    "    def logout(self):\n",
    "        user.active_users -=1\n",
    "        return f'{self.a} just logged out!'\n",
    "print(user.active_users)\n",
    "user1 = user('chaitanya','chowdary')\n",
    "user2 = user('chandra','chaitu')\n",
    "print(user.active_users)\n",
    "print(user1.logout())\n",
    "print(user.active_users)"
   ]
  },
  {
   "cell_type": "code",
   "execution_count": 57,
   "metadata": {},
   "outputs": [
    {
     "name": "stdin",
     "output_type": "stream",
     "text": [
      "what is your name?\t: chaitanya\n",
      "what is your age?\t: 20\n"
     ]
    },
    {
     "name": "stdout",
     "output_type": "stream",
     "text": [
      "chaitanya 20\n",
      "id of user1 allowed users :4574192496  and id of user of allowed ages4576034000\n",
      "class id of  allowed users4574192496 and id of class id of allowed ages4576034000 \n",
      "[1, 20, 40]\n",
      "id of user1 allowed users :4574192496\n"
     ]
    }
   ],
   "source": [
    "# class attributes \n",
    "def test():\n",
    "    a = input('what is your name?\\t:')\n",
    "    b = int(input('what is your age?\\t:'))\n",
    "    class user:\n",
    "        allowed_users = ('chaitanya','chaitu')\n",
    "        allowed_ages = [1,20]\n",
    "        def __init__(self,name,age):\n",
    "            if name not in user.allowed_users :\n",
    "                raise ValueError(f'the given name :{name} is invalid')\n",
    "            elif age not in user.allowed_ages:\n",
    "                raise ValueError(f'age defined {age} is invalid')\n",
    "            self.na = name\n",
    "            self.ag= age\n",
    "    user1 = user(a,b)\n",
    "    print(user1.na,user1.ag)\n",
    "    print(f'id of user1 allowed users :{id(user1.allowed_users)}  and id of user of allowed ages{id(user1.allowed_ages)}')\n",
    "    print(f'class id of  allowed users{id(user.allowed_users)} and id of class id of allowed ages{id(user.allowed_ages)} ')\n",
    "    user1.allowed_ages.append(40)\n",
    "    print(user1.allowed_ages)\n",
    "    print(f'id of user1 allowed users :{id(user1.allowed_users)}') # user1_allowed_users id is seperated from user.allowed_users by appending\n",
    "test()"
   ]
  },
  {
   "cell_type": "code",
   "execution_count": 58,
   "metadata": {},
   "outputs": [
    {
     "name": "stdout",
     "output_type": "stream",
     "text": [
      "there are currently 0 active users\n",
      "there are currently 2 active users\n",
      "chaitanya just logged out!\n",
      "there are currently 1 active users\n"
     ]
    }
   ],
   "source": [
    "# class methods  (class is an object)\n",
    "class user:\n",
    "    active_users = 0 # class attributes\n",
    "    @classmethod # class meethod is started with @class method \n",
    "    def display_active_users(cls):\n",
    "        return f'there are currently {cls.active_users} active users'\n",
    "    def __init__(self,first_name,last_name): # indivudial instances\n",
    "        self.a = first_name\n",
    "        self.b = last_name\n",
    "        user.active_users += 1\n",
    "    def logout(self):\n",
    "        user.active_users -=1\n",
    "        return f'{self.a} just logged out!'\n",
    "print(user.display_active_users())\n",
    "user1 = user('chaitanya','chowdary')\n",
    "user2 = user('chandra','chaitu')\n",
    "print(user.display_active_users())\n",
    "print(user1.logout())\n",
    "print(user.display_active_users())"
   ]
  },
  {
   "cell_type": "code",
   "execution_count": 59,
   "metadata": {},
   "outputs": [
    {
     "name": "stdout",
     "output_type": "stream",
     "text": [
      "chaitanya\n",
      "chandra\n"
     ]
    }
   ],
   "source": [
    "# class methods  (class is an object)\n",
    "class user:\n",
    "    @classmethod\n",
    "    def display_name(cls,name):\n",
    "        first_name,last_name = name.split(\",\") # using value (first_name) inside of function\n",
    "        return cls(first_name,last_name)\n",
    "\n",
    "    def __init__(self,first_name,last_name): # indivudial instances\n",
    "        self.a = first_name\n",
    "        self.b = last_name\n",
    "user1 = user.display_name(\"chaitanya,chandra\") # can send data to methods in the form of single string\n",
    "print(user1.a)# using key (self.a which is user1.a)to call outside of function\n",
    "print(user1.b)"
   ]
  },
  {
   "cell_type": "code",
   "execution_count": 60,
   "metadata": {},
   "outputs": [
    {
     "name": "stdout",
     "output_type": "stream",
     "text": [
      "this is chaitanya\n"
     ]
    }
   ],
   "source": [
    "# instance repr method \n",
    "class user:\n",
    "    def __repr__(self):  # repr represents the data which is in binary\n",
    "        return f'this is {user1.a}'\n",
    "    def __init__(self,first_name,last_name): # indivudial instances\n",
    "        self.a = first_name\n",
    "        self.b = last_name\n",
    "user1 = user('chaitanya','chandra')\n",
    "print(user1)\n",
    "\n",
    "\n",
    "# without reper (representation)\n",
    "# <__main__.user object at 0x10b179c70>"
   ]
  },
  {
   "cell_type": "code",
   "execution_count": 61,
   "metadata": {},
   "outputs": [
    {
     "name": "stdout",
     "output_type": "stream",
     "text": [
      "this is a animal named\t:cat\n",
      "chaitu\n"
     ]
    }
   ],
   "source": [
    "# inheritance\n",
    "class animal:\n",
    "    a = 'chaitu'\n",
    "    def animalname(self,name):\n",
    "        print(f'this is a animal named\\t:{name}')\n",
    "class call(animal): # calling another class with class object is called inheritance  and it acts as admin\n",
    "    pass\n",
    "variable = call()\n",
    "call().animalname('cat')\n",
    "print(variable.a)"
   ]
  },
  {
   "cell_type": "code",
   "execution_count": 62,
   "metadata": {},
   "outputs": [
    {
     "name": "stdout",
     "output_type": "stream",
     "text": [
      "this is about first char:1000\n"
     ]
    },
    {
     "ename": "ValueError",
     "evalue": "age can't be negitive chaitanya!",
     "output_type": "error",
     "traceback": [
      "\u001b[0;31m---------------------------------------------------------------------------\u001b[0m",
      "\u001b[0;31mValueError\u001b[0m                                Traceback (most recent call last)",
      "\u001b[0;32m<ipython-input-8-9dfed1d00ae5>\u001b[0m in \u001b[0;36m<module>\u001b[0;34m\u001b[0m\n\u001b[1;32m     18\u001b[0m \u001b[0manimal1\u001b[0m \u001b[0;34m=\u001b[0m \u001b[0manimal\u001b[0m\u001b[0;34m(\u001b[0m\u001b[0;34m'cat'\u001b[0m\u001b[0;34m,\u001b[0m\u001b[0;36m1000\u001b[0m\u001b[0;34m)\u001b[0m \u001b[0;31m# not a piped sintax\u001b[0m\u001b[0;34m\u001b[0m\u001b[0;34m\u001b[0m\u001b[0m\n\u001b[1;32m     19\u001b[0m \u001b[0mprint\u001b[0m\u001b[0;34m(\u001b[0m\u001b[0;34mf'this is about first char:{animal1.rage}'\u001b[0m\u001b[0;34m)\u001b[0m\u001b[0;34m\u001b[0m\u001b[0;34m\u001b[0m\u001b[0m\n\u001b[0;32m---> 20\u001b[0;31m \u001b[0manimal1\u001b[0m\u001b[0;34m.\u001b[0m\u001b[0mrage\u001b[0m \u001b[0;34m=\u001b[0m \u001b[0;34m-\u001b[0m\u001b[0;36m101\u001b[0m \u001b[0;31m# by calling only properties it will give a valid output\u001b[0m\u001b[0;34m\u001b[0m\u001b[0;34m\u001b[0m\u001b[0m\n\u001b[0m\u001b[1;32m     21\u001b[0m \u001b[0mprint\u001b[0m\u001b[0;34m(\u001b[0m\u001b[0manimal1\u001b[0m\u001b[0;34m.\u001b[0m\u001b[0mrage\u001b[0m\u001b[0;34m)\u001b[0m\u001b[0;34m\u001b[0m\u001b[0;34m\u001b[0m\u001b[0m\n",
      "\u001b[0;32m<ipython-input-8-9dfed1d00ae5>\u001b[0m in \u001b[0;36mrage\u001b[0;34m(self, value)\u001b[0m\n\u001b[1;32m     15\u001b[0m             \u001b[0mself\u001b[0m\u001b[0;34m.\u001b[0m\u001b[0m_age\u001b[0m \u001b[0;34m=\u001b[0m \u001b[0mvalue\u001b[0m\u001b[0;34m\u001b[0m\u001b[0;34m\u001b[0m\u001b[0m\n\u001b[1;32m     16\u001b[0m         \u001b[0;32melse\u001b[0m\u001b[0;34m:\u001b[0m\u001b[0;34m\u001b[0m\u001b[0;34m\u001b[0m\u001b[0m\n\u001b[0;32m---> 17\u001b[0;31m             \u001b[0;32mraise\u001b[0m \u001b[0mValueError\u001b[0m\u001b[0;34m(\u001b[0m\u001b[0;34m\"age can't be negitive chaitanya!\"\u001b[0m\u001b[0;34m)\u001b[0m\u001b[0;34m\u001b[0m\u001b[0;34m\u001b[0m\u001b[0m\n\u001b[0m\u001b[1;32m     18\u001b[0m \u001b[0manimal1\u001b[0m \u001b[0;34m=\u001b[0m \u001b[0manimal\u001b[0m\u001b[0;34m(\u001b[0m\u001b[0;34m'cat'\u001b[0m\u001b[0;34m,\u001b[0m\u001b[0;36m1000\u001b[0m\u001b[0;34m)\u001b[0m \u001b[0;31m# not a piped sintax\u001b[0m\u001b[0;34m\u001b[0m\u001b[0;34m\u001b[0m\u001b[0m\n\u001b[1;32m     19\u001b[0m \u001b[0mprint\u001b[0m\u001b[0;34m(\u001b[0m\u001b[0;34mf'this is about first char:{animal1.rage}'\u001b[0m\u001b[0;34m)\u001b[0m\u001b[0;34m\u001b[0m\u001b[0;34m\u001b[0m\u001b[0m\n",
      "\u001b[0;31mValueError\u001b[0m: age can't be negitive chaitanya!"
     ]
    }
   ],
   "source": [
    "# properties getter and properties setter \n",
    "class animal:\n",
    "    def __init__(self,name,age):\n",
    "        self.name = name\n",
    "        if age >= 0 :\n",
    "            self._age = age\n",
    "        else:\n",
    "            self._age = 0\n",
    "    @property\n",
    "    def rage(self):\n",
    "        return self._age\n",
    "    @rage.setter\n",
    "    def rage(self,value):\n",
    "        if value >= 0 :\n",
    "            self._age = value\n",
    "        else:\n",
    "            raise ValueError(\"age can't be negitive chaitanya!\")\n",
    "animal1 = animal('cat',1000) # not a piped sintax \n",
    "print(f'this is about first char:{animal1.rage}') \n",
    "animal1.rage = -101 # by calling only properties it will give a valid output \n",
    "print(animal1.rage)"
   ]
  },
  {
   "cell_type": "code",
   "execution_count": 63,
   "metadata": {},
   "outputs": [
    {
     "name": "stdout",
     "output_type": "stream",
     "text": [
      "this is Chaitanya and age 22\n",
      "this is Chaitanya from hyderabad\n"
     ]
    }
   ],
   "source": [
    "# inheritence with super()\n",
    "class people:\n",
    "    def __init__(self,name,age):\n",
    "        self.name = name\n",
    "        self.age = age\n",
    "\n",
    "    def __repr__(self):\n",
    "        return f'this is {self.name} and age {self.age}'\n",
    "\n",
    "class admin(people):\n",
    "    def __init__(self,name,DOB,place): # if the super variable is defined here than no need for default variable\n",
    "        super().__init__(name,age=22) # super() refers (return) to the people in [class admin(people)]\n",
    "        self.DOB = DOB\n",
    "        self.place = place\n",
    "    def callme(self):\n",
    "        print(f\"this is {self.name} from {self.place}\")\n",
    "\n",
    "blue = admin(\"Chaitanya\",\"1997\",\"hyderabad\")\n",
    "print(blue)\n",
    "blue.callme()"
   ]
  },
  {
   "cell_type": "code",
   "execution_count": 64,
   "metadata": {},
   "outputs": [
    {
     "name": "stdout",
     "output_type": "stream",
     "text": [
      "both init\n",
      "land init\n",
      "sea init\n",
      "this is chaitanya . form the locatioon land\n",
      "\n",
      "chairanya is instance of \"land\"\t:True\n",
      "\n",
      "chairanya is instance of \"sea\"\t:True\n",
      "\n",
      "chairanya is instance of \"both\"\t:True\n",
      "\n",
      "chairanya is instance of \"object\"\t:True\n"
     ]
    }
   ],
   "source": [
    "# multiple inheritance\n",
    "class sea:\n",
    "    def __init__(self,name):\n",
    "        print('sea init')\n",
    "        self.name = name\n",
    "    def swim(self):\n",
    "        return f'this is {self.name} swimming in the sea'\n",
    "    def kind(self):\n",
    "        return f'this is {self.name}. from the  location sea'\n",
    "\n",
    "class land:\n",
    "    def __init__(self,name):\n",
    "        print('land init')\n",
    "        self.name = name\n",
    "    def walk(self):\n",
    "        return f'this is {self.name}. walking in the land'\n",
    "    def kind(self):\n",
    "        return f'this is {self.name} . form the locatioon land'\n",
    "\n",
    "class both(land,sea): # which one is first in both(inheritance)  that will print first\n",
    "    def __init__(self,name):\n",
    "        print('both init')\n",
    "        # super().__init__(name=name)\n",
    "        land.__init__(self,name=name) # will call both instances in the inheritance\n",
    "        sea.__init__(self,name=name) # will call both instances in the inheritance\n",
    "# chaitu = land('chaitu')\n",
    "# chandra = sea('chandra')\n",
    "chaitanya = both('chaitanya')\n",
    "# print(chaitu.walk())\n",
    "\n",
    "print(chaitanya.kind())\n",
    "print(f'\\nchairanya is instance of \"land\"\\t:{isinstance(chaitanya,land)}')\n",
    "print(f'\\nchairanya is instance of \"sea\"\\t:{isinstance(chaitanya,sea)}')\n",
    "print(f'\\nchairanya is instance of \"both\"\\t:{isinstance(chaitanya,both)}')\n",
    "print(f'\\nchairanya is instance of \"object\"\\t:{isinstance(chaitanya,object)}')"
   ]
  },
  {
   "cell_type": "code",
   "execution_count": 65,
   "metadata": {},
   "outputs": [
    {
     "name": "stdout",
     "output_type": "stream",
     "text": [
      "all  init\n",
      "(<class '__main__.all'>, <class '__main__.sea'>, <class '__main__.air'>, <class '__main__.land'>, <class 'object'>)\n",
      "--------------------------------------------------------------------------------------\n",
      "[<class '__main__.all'>, <class '__main__.sea'>, <class '__main__.air'>, <class '__main__.land'>, <class 'object'>]\n",
      "--------------------------------------------------------------------------------------\n",
      "Help on class all in module __main__:\n",
      "\n",
      "class all(sea, air)\n",
      " |  Method resolution order:\n",
      " |      all\n",
      " |      sea\n",
      " |      air\n",
      " |      land\n",
      " |      builtins.object\n",
      " |  \n",
      " |  Methods defined here:\n",
      " |  \n",
      " |  dosomething(self)\n",
      " |  \n",
      " |  ----------------------------------------------------------------------\n",
      " |  Data descriptors inherited from land:\n",
      " |  \n",
      " |  __dict__\n",
      " |      dictionary for instance variables (if defined)\n",
      " |  \n",
      " |  __weakref__\n",
      " |      list of weak references to the object (if defined)\n",
      "\n",
      "None\n"
     ]
    }
   ],
   "source": [
    "# method resolution order (MRO)\n",
    "class land:\n",
    "    def dosomething(self):\n",
    "        print('land init')\n",
    "\n",
    "class sea(land):\n",
    "    def dosomething(self):\n",
    "        print('sea and land  init')\n",
    "\n",
    "class air(land):\n",
    "    def dosomething(self):\n",
    "        print('air and land  init')\n",
    "\n",
    "class all(sea,air): # first sea than air\n",
    "    def dosomething(self):\n",
    "        print('all  init')\n",
    "#       super().dosomething()\n",
    "\n",
    "thing = all()\n",
    "thing.dosomething()\n",
    "print(all.__mro__) # __mro__ gives us tuple\n",
    "print('--------------------------------------------------------------------------------------')\n",
    "print(all.mro()) # mro() gives us  a list\n",
    "print('--------------------------------------------------------------------------------------')\n",
    "print(help(all))\n",
    "\n",
    "#          land\n",
    "#          / \\\n",
    "#      sea --- air\n",
    "#         \\   /\n",
    "#          all\n"
   ]
  },
  {
   "cell_type": "code",
   "execution_count": 66,
   "metadata": {},
   "outputs": [
    {
     "name": "stdout",
     "output_type": "stream",
     "text": [
      "hello says human\n"
     ]
    },
    {
     "ename": "NotImplementedError",
     "evalue": "subclass need in order to implement this method! ",
     "output_type": "error",
     "traceback": [
      "\u001b[0;31m---------------------------------------------------------------------------\u001b[0m",
      "\u001b[0;31mNotImplementedError\u001b[0m                       Traceback (most recent call last)",
      "\u001b[0;32m<ipython-input-2-5a5014654a68>\u001b[0m in \u001b[0;36m<module>\u001b[0;34m\u001b[0m\n\u001b[1;32m     22\u001b[0m \u001b[0mprint\u001b[0m\u001b[0;34m(\u001b[0m\u001b[0mh\u001b[0m\u001b[0;34m.\u001b[0m\u001b[0mspeak\u001b[0m\u001b[0;34m(\u001b[0m\u001b[0;34m)\u001b[0m\u001b[0;34m)\u001b[0m\u001b[0;34m\u001b[0m\u001b[0;34m\u001b[0m\u001b[0m\n\u001b[1;32m     23\u001b[0m \u001b[0mf\u001b[0m  \u001b[0;34m=\u001b[0m \u001b[0mfish\u001b[0m\u001b[0;34m(\u001b[0m\u001b[0;34m)\u001b[0m\u001b[0;34m\u001b[0m\u001b[0;34m\u001b[0m\u001b[0m\n\u001b[0;32m---> 24\u001b[0;31m \u001b[0mprint\u001b[0m\u001b[0;34m(\u001b[0m\u001b[0mf\u001b[0m\u001b[0;34m.\u001b[0m\u001b[0mspeak\u001b[0m\u001b[0;34m(\u001b[0m\u001b[0;34m)\u001b[0m\u001b[0;34m)\u001b[0m\u001b[0;34m\u001b[0m\u001b[0;34m\u001b[0m\u001b[0m\n\u001b[0m",
      "\u001b[0;32m<ipython-input-2-5a5014654a68>\u001b[0m in \u001b[0;36mspeak\u001b[0;34m(self)\u001b[0m\n\u001b[1;32m      2\u001b[0m \u001b[0;32mclass\u001b[0m \u001b[0mbeing\u001b[0m\u001b[0;34m(\u001b[0m\u001b[0;34m)\u001b[0m\u001b[0;34m:\u001b[0m\u001b[0;34m\u001b[0m\u001b[0;34m\u001b[0m\u001b[0m\n\u001b[1;32m      3\u001b[0m     \u001b[0;32mdef\u001b[0m \u001b[0mspeak\u001b[0m\u001b[0;34m(\u001b[0m\u001b[0mself\u001b[0m\u001b[0;34m)\u001b[0m\u001b[0;34m:\u001b[0m\u001b[0;34m\u001b[0m\u001b[0;34m\u001b[0m\u001b[0m\n\u001b[0;32m----> 4\u001b[0;31m         \u001b[0;32mraise\u001b[0m \u001b[0mNotImplementedError\u001b[0m\u001b[0;34m(\u001b[0m\u001b[0;34m\"subclass need in order to implement this method! \"\u001b[0m\u001b[0;34m)\u001b[0m\u001b[0;34m\u001b[0m\u001b[0;34m\u001b[0m\u001b[0m\n\u001b[0m\u001b[1;32m      5\u001b[0m \u001b[0;34m\u001b[0m\u001b[0m\n\u001b[1;32m      6\u001b[0m \u001b[0;32mclass\u001b[0m \u001b[0mhuman\u001b[0m\u001b[0;34m(\u001b[0m\u001b[0mbeing\u001b[0m\u001b[0;34m)\u001b[0m\u001b[0;34m:\u001b[0m\u001b[0;34m\u001b[0m\u001b[0;34m\u001b[0m\u001b[0m\n",
      "\u001b[0;31mNotImplementedError\u001b[0m: subclass need in order to implement this method! "
     ]
    }
   ],
   "source": [
    "# polymorphism - a object can take on many(poly) forms(morph)\n",
    "class being():\n",
    "    def speak(self):\n",
    "        raise NotImplementedError(\"subclass need in order to implement this method! \")\n",
    "\n",
    "class human(being):\n",
    "    def speak(self):\n",
    "        return 'hello says human'\n",
    "\n",
    "class dog(being):\n",
    "    def speak(self):\n",
    "        return 'Bow says dog'\n",
    "\n",
    "class cat(being):\n",
    "    def speak(self):\n",
    "        return 'mew says cat'\n",
    "\n",
    "class fish(being):\n",
    "    pass\n",
    "\n",
    "h= human()\n",
    "print(h.speak())\n",
    "f  = fish()\n",
    "print(f.speak())"
   ]
  },
  {
   "cell_type": "code",
   "execution_count": 67,
   "metadata": {},
   "outputs": [
    {
     "name": "stdout",
     "output_type": "stream",
     "text": [
      "this is chaitanya chowdary aged 22\n",
      "22\n",
      "[this is chaitanya chowdary aged 22, this is chaitanya chowdary aged 22]\n",
      "[this is <chandra ch> chowdary aged 22, this is <chandra ch> chowdary aged 22]\n",
      "--------------------------------------------------------------------------------------------------\n",
      "[this is <chandra ch> prasad aged 20, this is <chandra ch> prasad aged 20]\n"
     ]
    }
   ],
   "source": [
    "# magic methods\n",
    "class name:\n",
    "    def __init__(self,first,last,age):\n",
    "        self.first = first\n",
    "        self.last = last\n",
    "        self.age = age\n",
    "    def __repr__(self): # representation method will work by calling(printing) anything\n",
    "        return f'this is {self.last} {self.first} aged {self.age}'\n",
    "    def __len__(self):\n",
    "        return self.age\n",
    "    def __add__(self, other): # self and other is the given variables name1 and name2\n",
    "        if isinstance(other,name): # if other and both are instances than pass\n",
    "            return name(first='prasad',last = self.last, age=20)\n",
    "        return f\"you can't add that\"\n",
    "    def __mul__(self, other): # self is a given variable name1 and other is the given value intiger for multiplication\n",
    "        if isinstance(other,int):  # other is the intiger comparing with int with if condition\n",
    "            return [self for i in range(other)]\n",
    "        return ValueError('the given value was not int')\n",
    "\n",
    "\n",
    "name1 = name(\"chowdary\",\"chaitanya\",22)\n",
    "name2 = name('chowdary','chaitu',21)\n",
    "\n",
    "print(name1) # for __reper__\n",
    "\n",
    "print(len(name1)) # only int for __len__\n",
    "\n",
    "print(name1 * 2 ) # for __add__\n",
    "\n",
    "mul = name1 * 2\n",
    "\n",
    "mul[1].last= '<chandra ch>'\n",
    "\n",
    "print(mul)\n",
    "print('--------------------------------------------------------------------------------------------------')\n",
    "print((name1+name2)*2)"
   ]
  },
  {
   "cell_type": "code",
   "execution_count": 68,
   "metadata": {},
   "outputs": [
    {
     "name": "stdout",
     "output_type": "stream",
     "text": [
      "None of your business\n",
      "{'hello': 'hi'}\n",
      "the key hi you are searching here is arn't here\n",
      "None\n",
      "do you want to change anything \n",
      "here you go you can change it by here \n",
      "--------------\n",
      "None of your business\n",
      "{'hello': 'hi', 'one': 'chaitu'}\n"
     ]
    }
   ],
   "source": [
    "# magic methods with dict\n",
    "class book(dict):\n",
    "    def __repr__(self):\n",
    "        print('None of your business')\n",
    "        return super().__repr__() # represent the dict by calling the __reper__\n",
    "    def __missing__(self, key):\n",
    "        print( f\"the key {key} you are searching here is arn't here\") # search  for key in the dict {'key':'value'} pair\n",
    "    def __setitem__(self, key, value):\n",
    "        print('do you want to change anything ')\n",
    "        print('here you go you can change it by here ')\n",
    "        super().__setitem__(key,value)\n",
    "book1 = book({'hello':'hi'})\n",
    "print(book1)\n",
    "print(book1['hi'])\n",
    "book1['one']='chaitu'\n",
    "print('--------------')\n",
    "print(book1)"
   ]
  },
  {
   "cell_type": "code",
   "execution_count": 69,
   "metadata": {},
   "outputs": [],
   "source": []
  }
 ],
 "metadata": {
  "kernelspec": {
   "display_name": "Python 3",
   "language": "python",
   "name": "python3"
  },
  "language_info": {
   "codemirror_mode": {
    "name": "ipython",
    "version": 3
   },
   "file_extension": ".py",
   "mimetype": "text/x-python",
   "name": "python",
   "nbconvert_exporter": "python",
   "pygments_lexer": "ipython3",
   "version": "3.7.4"
  }
 },
 "nbformat": 4,
 "nbformat_minor": 4
}
